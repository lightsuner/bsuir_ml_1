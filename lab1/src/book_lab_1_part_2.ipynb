{
 "cells": [
  {
   "cell_type": "markdown",
   "metadata": {},
   "source": [
    "Набор данных ex1data2.txt представляет собой текстовый файл, содержащий информацию о площади дома в квадратных футах (первое число в строке), количестве комнат в доме (второе число в строке) и стоимости дома (третье число)."
   ]
  },
  {
   "cell_type": "code",
   "execution_count": 2,
   "metadata": {},
   "outputs": [],
   "source": [
    "import numpy as np\n",
    "import pandas\n",
    "import matplotlib.pyplot as plt\n",
    "\n",
    "# Will allow us to embed images in the notebook\n",
    "%matplotlib inline"
   ]
  },
  {
   "cell_type": "markdown",
   "metadata": {},
   "source": [
    "**6. Загрузите набор данных ex1data2.txt из текстового файла.**"
   ]
  },
  {
   "cell_type": "code",
   "execution_count": 3,
   "metadata": {},
   "outputs": [],
   "source": [
    "original_df = pandas.read_csv('ex1data2.txt', header=None, names=['area', 'rooms', 'price'])"
   ]
  },
  {
   "cell_type": "code",
   "execution_count": 4,
   "metadata": {},
   "outputs": [
    {
     "data": {
      "text/html": [
       "<div>\n",
       "<style scoped>\n",
       "    .dataframe tbody tr th:only-of-type {\n",
       "        vertical-align: middle;\n",
       "    }\n",
       "\n",
       "    .dataframe tbody tr th {\n",
       "        vertical-align: top;\n",
       "    }\n",
       "\n",
       "    .dataframe thead th {\n",
       "        text-align: right;\n",
       "    }\n",
       "</style>\n",
       "<table border=\"1\" class=\"dataframe\">\n",
       "  <thead>\n",
       "    <tr style=\"text-align: right;\">\n",
       "      <th></th>\n",
       "      <th>area</th>\n",
       "      <th>rooms</th>\n",
       "      <th>price</th>\n",
       "    </tr>\n",
       "  </thead>\n",
       "  <tbody>\n",
       "    <tr>\n",
       "      <th>0</th>\n",
       "      <td>2104</td>\n",
       "      <td>3</td>\n",
       "      <td>399900</td>\n",
       "    </tr>\n",
       "    <tr>\n",
       "      <th>1</th>\n",
       "      <td>1600</td>\n",
       "      <td>3</td>\n",
       "      <td>329900</td>\n",
       "    </tr>\n",
       "    <tr>\n",
       "      <th>2</th>\n",
       "      <td>2400</td>\n",
       "      <td>3</td>\n",
       "      <td>369000</td>\n",
       "    </tr>\n",
       "    <tr>\n",
       "      <th>3</th>\n",
       "      <td>1416</td>\n",
       "      <td>2</td>\n",
       "      <td>232000</td>\n",
       "    </tr>\n",
       "    <tr>\n",
       "      <th>4</th>\n",
       "      <td>3000</td>\n",
       "      <td>4</td>\n",
       "      <td>539900</td>\n",
       "    </tr>\n",
       "  </tbody>\n",
       "</table>\n",
       "</div>"
      ],
      "text/plain": [
       "   area  rooms   price\n",
       "0  2104      3  399900\n",
       "1  1600      3  329900\n",
       "2  2400      3  369000\n",
       "3  1416      2  232000\n",
       "4  3000      4  539900"
      ]
     },
     "execution_count": 4,
     "metadata": {},
     "output_type": "execute_result"
    }
   ],
   "source": [
    "original_df.head()"
   ]
  },
  {
   "cell_type": "code",
   "execution_count": 5,
   "metadata": {},
   "outputs": [
    {
     "data": {
      "text/plain": [
       "(47,)"
      ]
     },
     "execution_count": 5,
     "metadata": {},
     "output_type": "execute_result"
    }
   ],
   "source": [
    "Y = original_df['price'].values.astype('float64')\n",
    "Y.shape"
   ]
  },
  {
   "cell_type": "markdown",
   "metadata": {},
   "source": [
    "**Градиентный спуск без векторизации**"
   ]
  },
  {
   "cell_type": "code",
   "execution_count": 6,
   "metadata": {},
   "outputs": [],
   "source": [
    "def gd_old(X, Y, iterations = 200, alpha = 0.01):\n",
    "    \n",
    "    features_count = X.shape[1]\n",
    "    \n",
    "    theta = np.zeros(features_count)\n",
    "    \n",
    "    def h(theta, x):\n",
    "        sum = 0\n",
    "        for i in range(len(theta)):\n",
    "            sum += theta[i] * x[i]\n",
    "        return sum\n",
    "    \n",
    "    def cost_f(theta, X, Y):\n",
    "        m = len(Y)\n",
    "        sum = 0\n",
    "        for i in range(m):\n",
    "            sum += (h(theta, X[i]) - Y[i])**2\n",
    "\n",
    "        return sum/(2*m)\n",
    "    \n",
    "    def der_theta(theta, X, Y, alpha, theta_idx):\n",
    "        m = len(Y)\n",
    "        sum = 0\n",
    "        for i in range(m):\n",
    "            sum += (h(theta, X[i]) - Y[i]) * X[i][theta_idx]\n",
    "    \n",
    "        return (alpha / m) * sum\n",
    "    \n",
    "    \n",
    "    ## GD algorithm\n",
    "    theta_history = np.zeros([iterations + 1, features_count])\n",
    "    cost_history = np.zeros(iterations + 1) # .reshape(1, -1) if required\n",
    "    \n",
    "    cost = cost_f(theta, X, Y)\n",
    "\n",
    "    cost_history[0] = cost\n",
    "    theta_history[0] = theta\n",
    "    \n",
    "    for it_idx in range(iterations):\n",
    "        tmptheta = np.copy(theta)\n",
    "        \n",
    "        for theta_idx in range(features_count):\n",
    "            tmptheta[theta_idx] = theta[theta_idx] - der_theta(theta, X, Y, alpha, theta_idx)\n",
    "        \n",
    "        theta = np.copy(tmptheta)\n",
    "        \n",
    "        cost = cost_f(theta, X, Y)\n",
    "        \n",
    "        cost_history[it_idx + 1] = cost\n",
    "        theta_history[it_idx + 1] = theta\n",
    "    \n",
    "    return theta, cost, theta_history, cost_history"
   ]
  },
  {
   "cell_type": "code",
   "execution_count": 9,
   "metadata": {},
   "outputs": [
    {
     "data": {
      "text/html": [
       "<div>\n",
       "<style scoped>\n",
       "    .dataframe tbody tr th:only-of-type {\n",
       "        vertical-align: middle;\n",
       "    }\n",
       "\n",
       "    .dataframe tbody tr th {\n",
       "        vertical-align: top;\n",
       "    }\n",
       "\n",
       "    .dataframe thead th {\n",
       "        text-align: right;\n",
       "    }\n",
       "</style>\n",
       "<table border=\"1\" class=\"dataframe\">\n",
       "  <thead>\n",
       "    <tr style=\"text-align: right;\">\n",
       "      <th></th>\n",
       "      <th>area</th>\n",
       "      <th>rooms</th>\n",
       "    </tr>\n",
       "  </thead>\n",
       "  <tbody>\n",
       "    <tr>\n",
       "      <th>0</th>\n",
       "      <td>2104</td>\n",
       "      <td>3</td>\n",
       "    </tr>\n",
       "    <tr>\n",
       "      <th>1</th>\n",
       "      <td>1600</td>\n",
       "      <td>3</td>\n",
       "    </tr>\n",
       "    <tr>\n",
       "      <th>2</th>\n",
       "      <td>2400</td>\n",
       "      <td>3</td>\n",
       "    </tr>\n",
       "    <tr>\n",
       "      <th>3</th>\n",
       "      <td>1416</td>\n",
       "      <td>2</td>\n",
       "    </tr>\n",
       "    <tr>\n",
       "      <th>4</th>\n",
       "      <td>3000</td>\n",
       "      <td>4</td>\n",
       "    </tr>\n",
       "  </tbody>\n",
       "</table>\n",
       "</div>"
      ],
      "text/plain": [
       "   area  rooms\n",
       "0  2104      3\n",
       "1  1600      3\n",
       "2  2400      3\n",
       "3  1416      2\n",
       "4  3000      4"
      ]
     },
     "execution_count": 9,
     "metadata": {},
     "output_type": "execute_result"
    }
   ],
   "source": [
    "de_normalized_df = original_df.drop('price', axis=1)\n",
    "de_normalized_df.head()"
   ]
  },
  {
   "cell_type": "code",
   "execution_count": 10,
   "metadata": {},
   "outputs": [
    {
     "data": {
      "text/plain": [
       "array([[1.000e+00, 2.104e+03, 3.000e+00],\n",
       "       [1.000e+00, 1.600e+03, 3.000e+00]])"
      ]
     },
     "execution_count": 10,
     "metadata": {},
     "output_type": "execute_result"
    }
   ],
   "source": [
    "X_denorm = de_normalized_df.copy()\n",
    "X_denorm.insert(0, '', 1)\n",
    "X_denorm = X_denorm.values.astype('float64')\n",
    "\n",
    "X_denorm[0: 2]"
   ]
  },
  {
   "cell_type": "markdown",
   "metadata": {},
   "source": [
    "**7. Произведите нормализацию признаков. Повлияло ли это на скорость сходимости градиентного спуска? Ответ дайте в виде графика.**"
   ]
  },
  {
   "cell_type": "markdown",
   "metadata": {},
   "source": [
    "**Mean normalization**"
   ]
  },
  {
   "cell_type": "code",
   "execution_count": 11,
   "metadata": {},
   "outputs": [
    {
     "data": {
      "text/html": [
       "<div>\n",
       "<style scoped>\n",
       "    .dataframe tbody tr th:only-of-type {\n",
       "        vertical-align: middle;\n",
       "    }\n",
       "\n",
       "    .dataframe tbody tr th {\n",
       "        vertical-align: top;\n",
       "    }\n",
       "\n",
       "    .dataframe thead th {\n",
       "        text-align: right;\n",
       "    }\n",
       "</style>\n",
       "<table border=\"1\" class=\"dataframe\">\n",
       "  <thead>\n",
       "    <tr style=\"text-align: right;\">\n",
       "      <th></th>\n",
       "      <th>area</th>\n",
       "      <th>rooms</th>\n",
       "    </tr>\n",
       "  </thead>\n",
       "  <tbody>\n",
       "    <tr>\n",
       "      <th>0</th>\n",
       "      <td>0.028494</td>\n",
       "      <td>-0.042553</td>\n",
       "    </tr>\n",
       "    <tr>\n",
       "      <th>1</th>\n",
       "      <td>-0.110502</td>\n",
       "      <td>-0.042553</td>\n",
       "    </tr>\n",
       "    <tr>\n",
       "      <th>2</th>\n",
       "      <td>0.110127</td>\n",
       "      <td>-0.042553</td>\n",
       "    </tr>\n",
       "    <tr>\n",
       "      <th>3</th>\n",
       "      <td>-0.161247</td>\n",
       "      <td>-0.292553</td>\n",
       "    </tr>\n",
       "    <tr>\n",
       "      <th>4</th>\n",
       "      <td>0.275598</td>\n",
       "      <td>0.207447</td>\n",
       "    </tr>\n",
       "  </tbody>\n",
       "</table>\n",
       "</div>"
      ],
      "text/plain": [
       "       area     rooms\n",
       "0  0.028494 -0.042553\n",
       "1 -0.110502 -0.042553\n",
       "2  0.110127 -0.042553\n",
       "3 -0.161247 -0.292553\n",
       "4  0.275598  0.207447"
      ]
     },
     "execution_count": 11,
     "metadata": {},
     "output_type": "execute_result"
    }
   ],
   "source": [
    "normalized_df = (de_normalized_df-de_normalized_df.mean())/(de_normalized_df.max()-de_normalized_df.min())\n",
    "normalized_df.head()"
   ]
  },
  {
   "cell_type": "code",
   "execution_count": 12,
   "metadata": {},
   "outputs": [
    {
     "data": {
      "text/plain": [
       "array([[ 1.        ,  0.02849397, -0.04255319],\n",
       "       [ 1.        , -0.11050217, -0.04255319]])"
      ]
     },
     "execution_count": 12,
     "metadata": {},
     "output_type": "execute_result"
    }
   ],
   "source": [
    "X_norm = normalized_df.copy()\n",
    "X_norm.insert(0, '', 1)\n",
    "X_norm = X_norm.values.astype('float64')\n",
    "\n",
    "X_norm[0: 2]"
   ]
  },
  {
   "cell_type": "code",
   "execution_count": 77,
   "metadata": {},
   "outputs": [
    {
     "name": "stdout",
     "output_type": "stream",
     "text": [
      "Cost: nan\n",
      "Theta: [nan nan nan]\n"
     ]
    },
    {
     "name": "stderr",
     "output_type": "stream",
     "text": [
      "/Users/ls/anaconda3/lib/python3.7/site-packages/ipykernel_launcher.py:17: RuntimeWarning: overflow encountered in double_scalars\n",
      "/Users/ls/anaconda3/lib/python3.7/site-packages/ipykernel_launcher.py:25: RuntimeWarning: overflow encountered in double_scalars\n",
      "/Users/ls/anaconda3/lib/python3.7/site-packages/ipykernel_launcher.py:43: RuntimeWarning: invalid value encountered in double_scalars\n"
     ]
    }
   ],
   "source": [
    "# RuntimeWarning: overflow encountered in double_scalars\n",
    "theta, cost, _, denorm_cost_history = gd_old(X_denorm, Y)\n",
    "\n",
    "print(f'Cost: {cost}')\n",
    "print(f'Theta: {theta}')"
   ]
  },
  {
   "cell_type": "code",
   "execution_count": 66,
   "metadata": {},
   "outputs": [
    {
     "name": "stdout",
     "output_type": "stream",
     "text": [
      "Cost: 7571592939.046129\n",
      "Theta: [294804.28212715  43355.1309382   18903.11447294]\n"
     ]
    }
   ],
   "source": [
    "theta, cost, _, norm_cost_history = gd_old(X_norm, Y)\n",
    "\n",
    "print(f'Cost: {cost}')\n",
    "print(f'Theta: {theta}')"
   ]
  },
  {
   "cell_type": "code",
   "execution_count": 67,
   "metadata": {},
   "outputs": [
    {
     "data": {
      "text/plain": [
       "<matplotlib.legend.Legend at 0x11bae6ef0>"
      ]
     },
     "execution_count": 67,
     "metadata": {},
     "output_type": "execute_result"
    },
    {
     "data": {
      "image/png": "[encoded data removed]",
      "text/plain": [
       "<Figure size 720x432 with 1 Axes>"
      ]
     },
     "metadata": {
      "needs_background": "light"
     },
     "output_type": "display_data"
    }
   ],
   "source": [
    "plt.figure(figsize=(10,6))\n",
    "\n",
    "plt.plot(range(len(denorm_cost_history)), denorm_cost_history, label='Денормальизованные данные')\n",
    "plt.plot(range(len(norm_cost_history)), norm_cost_history, label='Нормальизованные данные')\n",
    "\n",
    "plt.grid(True)\n",
    "plt.xlabel(\"Итерации\")\n",
    "plt.ylabel(\"Значение функции стоимости\")\n",
    "plt.legend()"
   ]
  },
  {
   "cell_type": "markdown",
   "metadata": {},
   "source": [
    "**8. Реализуйте функции потерь J(θ) и градиентного спуска для случая многомерной линейной регрессии с использованием векторизации.**"
   ]
  },
  {
   "cell_type": "code",
   "execution_count": 81,
   "metadata": {},
   "outputs": [],
   "source": [
    "def h(theta, x):\n",
    "    return np.dot(x, theta.T)\n",
    "\n",
    "def cost_f(theta, X, Y):\n",
    "    m = len(Y)\n",
    "    results = h(theta, X) - Y\n",
    "    return (np.dot(results.T, results) / (2*m)).item()\n",
    "\n",
    "def gd_vec(X, Y_un_resh, iterations = 200, alpha = 0.01):\n",
    "    Y = Y_un_resh.reshape(-1, 1)\n",
    "    \n",
    "    features_count = X.shape[1]\n",
    "    m = Y.size\n",
    "    \n",
    "    theta = np.zeros([1, features_count])    \n",
    "    \n",
    "    theta_history = np.zeros([iterations + 1, features_count])\n",
    "    cost_history = np.zeros(iterations + 1)\n",
    "    \n",
    "    cost = cost_f(theta, X, Y)\n",
    "\n",
    "    cost_history[0] = cost\n",
    "    theta_history[0] = theta\n",
    "    \n",
    "    for it_idx in range(iterations):\n",
    "        dt = np.dot((h(theta, X) - Y).T, X)\n",
    "        theta = theta - (alpha / m) * dt\n",
    "        \n",
    "        cost = cost_f(theta, X, Y)\n",
    "        \n",
    "        cost_history[it_idx + 1] = cost\n",
    "        theta_history[it_idx + 1] = theta\n",
    "    \n",
    "    return theta, cost, theta_history, cost_history"
   ]
  },
  {
   "cell_type": "code",
   "execution_count": 79,
   "metadata": {
    "scrolled": true
   },
   "outputs": [
    {
     "name": "stdout",
     "output_type": "stream",
     "text": [
      "Cost: 7571592939.046129\n",
      "Theta: [294804.28212715  43355.1309382   18903.11447294]\n",
      "Cost: 7571592939.046132\n",
      "Theta: [[294804.28212715  43355.1309382   18903.11447294]]\n"
     ]
    }
   ],
   "source": [
    "theta, cost, theta_history, cost_history = gd_old(X_norm, Y)\n",
    "\n",
    "print(f'Cost: {cost}')\n",
    "print(f'Theta: {theta}')\n",
    "\n",
    "theta, cost, theta_history, cost_history = gd_vec(X_norm, Y)\n",
    "\n",
    "print(f'Cost: {cost}')\n",
    "print(f'Theta: {theta}')"
   ]
  },
  {
   "cell_type": "markdown",
   "metadata": {},
   "source": [
    "**9. Покажите, что векторизация дает прирост производительности.**"
   ]
  },
  {
   "cell_type": "code",
   "execution_count": 70,
   "metadata": {},
   "outputs": [
    {
     "name": "stdout",
     "output_type": "stream",
     "text": [
      "[340412.65957447 504777.87802321 -34952.04307876]\n",
      "CPU times: user 5.75 s, sys: 48.8 ms, total: 5.8 s\n",
      "Wall time: 5.8 s\n"
     ]
    }
   ],
   "source": [
    "%%time\n",
    "theta, _, _, _ = gd_old(X_norm, Y, 9000, 0.1)\n",
    "print(theta)"
   ]
  },
  {
   "cell_type": "code",
   "execution_count": 71,
   "metadata": {},
   "outputs": [
    {
     "name": "stdout",
     "output_type": "stream",
     "text": [
      "[[340412.65957447 504777.87802321 -34952.04307876]]\n",
      "CPU times: user 98.5 ms, sys: 2.2 ms, total: 101 ms\n",
      "Wall time: 99.8 ms\n"
     ]
    }
   ],
   "source": [
    "%%time\n",
    "theta, _, _, _ = gd_vec(X_norm, Y, 9000, 0.1)\n",
    "print(theta)"
   ]
  },
  {
   "cell_type": "markdown",
   "metadata": {},
   "source": [
    "**10. Попробуйте изменить параметр ɑ (коэффициент обучения). Как при этом изменяется график функции потерь в зависимости от числа итераций градиентного спуск? Результат изобразите в качестве графика.**"
   ]
  },
  {
   "cell_type": "code",
   "execution_count": 72,
   "metadata": {},
   "outputs": [],
   "source": [
    "loss = {}\n",
    "iterations_count = 120\n",
    "\n",
    "for alpha in [0.01, 0.05, 0.1, 0.5, 1, 2]:\n",
    "    _, _, _, cost_history = gd_vec(X_norm, Y, iterations_count, alpha)\n",
    "    loss[str(alpha)] = cost_history"
   ]
  },
  {
   "cell_type": "code",
   "execution_count": 73,
   "metadata": {},
   "outputs": [
    {
     "data": {
      "text/plain": [
       "<matplotlib.legend.Legend at 0x11bc67e48>"
      ]
     },
     "execution_count": 73,
     "metadata": {},
     "output_type": "execute_result"
    },
    {
     "data": {
      "image/png": "[encoded data removed]",
      "text/plain": [
       "<Figure size 720x432 with 1 Axes>"
      ]
     },
     "metadata": {
      "needs_background": "light"
     },
     "output_type": "display_data"
    }
   ],
   "source": [
    "plt.figure(figsize=(10,6))\n",
    "\n",
    "iter_range = range(iterations_count + 1)\n",
    "\n",
    "for alpha, cost_series in loss.items():\n",
    "    plt.plot(iter_range, cost_series, label=r'$ \\alpha $: %s'%(alpha))\n",
    "\n",
    "plt.grid(True)\n",
    "plt.xlabel(\"Итерации\")\n",
    "plt.ylabel(\"Значение функции стоимости\")\n",
    "plt.legend()"
   ]
  },
  {
   "cell_type": "markdown",
   "metadata": {},
   "source": [
    "**11. Постройте модель, используя аналитическое решение, которое может быть получено методом наименьших квадратов. Сравните результаты данной модели с моделью, полученной с помощью градиентного спуска.**\n"
   ]
  },
  {
   "cell_type": "code",
   "execution_count": 74,
   "metadata": {},
   "outputs": [],
   "source": [
    "def normal_equation(X, Y):\n",
    "    return np.dot(np.dot(np.linalg.inv(np.dot(X.T, X)), X.T), Y)"
   ]
  },
  {
   "cell_type": "code",
   "execution_count": 75,
   "metadata": {},
   "outputs": [
    {
     "name": "stdout",
     "output_type": "stream",
     "text": [
      "CPU times: user 1.45 ms, sys: 2.3 ms, total: 3.76 ms\n",
      "Wall time: 4.98 ms\n"
     ]
    },
    {
     "data": {
      "text/plain": [
       "array([340412.65957447, 504777.90398791, -34952.07644931])"
      ]
     },
     "execution_count": 75,
     "metadata": {},
     "output_type": "execute_result"
    }
   ],
   "source": [
    "%%time\n",
    "normal_equation(X_norm, Y)"
   ]
  },
  {
   "cell_type": "code",
   "execution_count": 76,
   "metadata": {},
   "outputs": [
    {
     "name": "stdout",
     "output_type": "stream",
     "text": [
      "[[340412.65957447 504777.87802321 -34952.04307876]]\n",
      "CPU times: user 93.5 ms, sys: 2.66 ms, total: 96.2 ms\n",
      "Wall time: 95.9 ms\n"
     ]
    }
   ],
   "source": [
    "%%time\n",
    "theta, _, _, _ = gd_vec(X_norm, Y, 9000, 0.1)\n",
    "\n",
    "print(theta)"
   ]
  },
  {
   "cell_type": "code",
   "execution_count": null,
   "metadata": {},
   "outputs": [],
   "source": []
  }
 ],
 "metadata": {
  "kernelspec": {
   "display_name": "Python 3",
   "language": "python",
   "name": "python3"
  },
  "language_info": {
   "codemirror_mode": {
    "name": "ipython",
    "version": 3
   },
   "file_extension": ".py",
   "mimetype": "text/x-python",
   "name": "python",
   "nbconvert_exporter": "python",
   "pygments_lexer": "ipython3",
   "version": "3.7.3"
  }
 },
 "nbformat": 4,
 "nbformat_minor": 2
}
