{
 "cells": [
  {
   "cell_type": "code",
   "execution_count": 1175,
   "metadata": {},
   "outputs": [],
   "source": [
    "import numpy as np\n",
    "import pandas\n",
    "import matplotlib.pyplot as plt\n",
    "from scipy import optimize\n",
    "import scipy.io\n",
    "\n",
    "# Will allow us to embed images in the notebook\n",
    "%matplotlib inline"
   ]
  },
  {
   "cell_type": "markdown",
   "metadata": {},
   "source": [
    "Набор данных ex2data1.txt представляет собой текстовый файл, содержащий информацию об оценке студента по первому экзамену (первое число в строке), оценке по второму экзамену (второе число в строке) и поступлении в университет (0 - не поступил, 1 - поступил).\n"
   ]
  },
  {
   "cell_type": "markdown",
   "metadata": {},
   "source": [
    "**1. Загрузите данные ex2data1.txt из текстового файла.**"
   ]
  },
  {
   "cell_type": "code",
   "execution_count": 504,
   "metadata": {},
   "outputs": [],
   "source": [
    "df1 = pandas.read_csv('ex2data1.txt', header=None, names=['exam_1', 'exam_2', 'result'])"
   ]
  },
  {
   "cell_type": "code",
   "execution_count": 505,
   "metadata": {},
   "outputs": [
    {
     "data": {
      "text/html": [
       "<div>\n",
       "<style scoped>\n",
       "    .dataframe tbody tr th:only-of-type {\n",
       "        vertical-align: middle;\n",
       "    }\n",
       "\n",
       "    .dataframe tbody tr th {\n",
       "        vertical-align: top;\n",
       "    }\n",
       "\n",
       "    .dataframe thead th {\n",
       "        text-align: right;\n",
       "    }\n",
       "</style>\n",
       "<table border=\"1\" class=\"dataframe\">\n",
       "  <thead>\n",
       "    <tr style=\"text-align: right;\">\n",
       "      <th></th>\n",
       "      <th>exam_1</th>\n",
       "      <th>exam_2</th>\n",
       "      <th>result</th>\n",
       "    </tr>\n",
       "  </thead>\n",
       "  <tbody>\n",
       "    <tr>\n",
       "      <th>0</th>\n",
       "      <td>34.623660</td>\n",
       "      <td>78.024693</td>\n",
       "      <td>0</td>\n",
       "    </tr>\n",
       "    <tr>\n",
       "      <th>1</th>\n",
       "      <td>30.286711</td>\n",
       "      <td>43.894998</td>\n",
       "      <td>0</td>\n",
       "    </tr>\n",
       "    <tr>\n",
       "      <th>2</th>\n",
       "      <td>35.847409</td>\n",
       "      <td>72.902198</td>\n",
       "      <td>0</td>\n",
       "    </tr>\n",
       "    <tr>\n",
       "      <th>3</th>\n",
       "      <td>60.182599</td>\n",
       "      <td>86.308552</td>\n",
       "      <td>1</td>\n",
       "    </tr>\n",
       "    <tr>\n",
       "      <th>4</th>\n",
       "      <td>79.032736</td>\n",
       "      <td>75.344376</td>\n",
       "      <td>1</td>\n",
       "    </tr>\n",
       "  </tbody>\n",
       "</table>\n",
       "</div>"
      ],
      "text/plain": [
       "      exam_1     exam_2  result\n",
       "0  34.623660  78.024693       0\n",
       "1  30.286711  43.894998       0\n",
       "2  35.847409  72.902198       0\n",
       "3  60.182599  86.308552       1\n",
       "4  79.032736  75.344376       1"
      ]
     },
     "execution_count": 505,
     "metadata": {},
     "output_type": "execute_result"
    }
   ],
   "source": [
    "df1.head()"
   ]
  },
  {
   "cell_type": "markdown",
   "metadata": {},
   "source": [
    "**2. Постройте график, где по осям откладываются оценки по предметам, а точки обозначаются двумя разными маркерами в зависимости от того, поступил ли данный студент в университет или нет.**\n"
   ]
  },
  {
   "cell_type": "code",
   "execution_count": null,
   "metadata": {},
   "outputs": [],
   "source": []
  },
  {
   "cell_type": "code",
   "execution_count": 506,
   "metadata": {},
   "outputs": [],
   "source": [
    "def create_normalizer(df):\n",
    "    mean = df.mean().values\n",
    "    rng = (df.max()-df.min()).values\n",
    "    \n",
    "    def norm_func(val):\n",
    "        return (val - mean) / rng\n",
    "    \n",
    "    def denorm_func(val):\n",
    "        return val * rng + mean\n",
    "    \n",
    "    return norm_func, denorm_func"
   ]
  },
  {
   "cell_type": "code",
   "execution_count": 507,
   "metadata": {},
   "outputs": [
    {
     "name": "stdout",
     "output_type": "stream",
     "text": [
      "orig_X.shape = (100, 3)\n",
      "norm_X.shape = (100, 3)\n",
      "Y.shape = (100, 1)\n"
     ]
    }
   ],
   "source": [
    "tmp_df = df1.copy()\n",
    "tmp_df.insert(0, '', 1)\n",
    "\n",
    "orig_X = tmp_df.drop('result', axis=1).values\n",
    "print(f'orig_X.shape = {orig_X.shape}')\n",
    "\n",
    "\n",
    "norm_func, denorm_func = create_normalizer(df1.copy().drop('result', axis=1))\n",
    "\n",
    "norm_df = norm_func(df1.copy().drop('result', axis=1)) \n",
    "norm_df.insert(0, '', 1)\n",
    "\n",
    "norm_X = norm_df.values\n",
    "print(f'norm_X.shape = {norm_X.shape}')\n",
    "\n",
    "Y = tmp_df['result'].values.reshape(-1, 1)\n",
    "print(f'Y.shape = {Y.shape}')"
   ]
  },
  {
   "cell_type": "code",
   "execution_count": 508,
   "metadata": {},
   "outputs": [],
   "source": [
    "r_pass = Y == 1\n",
    "r_fail = Y == 0"
   ]
  },
  {
   "cell_type": "code",
   "execution_count": 509,
   "metadata": {},
   "outputs": [
    {
     "data": {
      "image/png": "[encoded data removed]",
      "text/plain": [
       "<Figure size 720x432 with 1 Axes>"
      ]
     },
     "metadata": {
      "needs_background": "light"
     },
     "output_type": "display_data"
    }
   ],
   "source": [
    "plt.figure(figsize=(10,6))\n",
    "plt.plot(df1[r_pass]['exam_1'],df1[r_pass]['exam_2'], 'go', label='Поступил')\n",
    "plt.plot(df1[r_fail]['exam_1'],df1[r_fail]['exam_2'], 'rx', label='Не поступил')\n",
    "plt.xlabel('Экзамен 1')\n",
    "plt.ylabel('Экзамен 2')\n",
    "plt.legend(loc=3)\n",
    "plt.grid(True)"
   ]
  },
  {
   "cell_type": "markdown",
   "metadata": {},
   "source": [
    "**3. Реализуйте функции потерь J(θ) и градиентного спуска для логистической регрессии с использованием векторизации.**"
   ]
  },
  {
   "cell_type": "code",
   "execution_count": 510,
   "metadata": {},
   "outputs": [],
   "source": [
    "#theta = np.ones([3, 1])\n",
    "#print(f'theta.shape = {theta.shape}')\n",
    "\n",
    "def sigmoid(z):\n",
    "    return 1.0 / (1 + np.exp(-z))\n",
    "\n",
    "def h(theta, X):\n",
    "    return sigmoid(np.dot(X, theta))"
   ]
  },
  {
   "cell_type": "code",
   "execution_count": 571,
   "metadata": {},
   "outputs": [
    {
     "data": {
      "text/plain": [
       "0.6931471805599452"
      ]
     },
     "execution_count": 571,
     "metadata": {},
     "output_type": "execute_result"
    }
   ],
   "source": [
    "def J(theta, X, Y):\n",
    "    m = len(X)\n",
    "    \n",
    "    h_res = h(theta, X)\n",
    "    \n",
    "    e1 = np.dot(-Y.T, np.log(h_res))\n",
    "    e2 = np.dot((1 - Y).T, np.log(1 - h_res))\n",
    "    \n",
    "    return (1 / m) * (e1 - e2).item()\n",
    "\n",
    "initial_theta = np.zeros((orig_X.shape[1],1))\n",
    "J(initial_theta, orig_X, Y)"
   ]
  },
  {
   "cell_type": "code",
   "execution_count": 512,
   "metadata": {},
   "outputs": [],
   "source": [
    "def gd(X, Y, iterations = 200, alpha = 0.01):\n",
    "    n = X.shape[1]\n",
    "    m = len(Y)\n",
    "    \n",
    "    theta = np.zeros([n, 1])    \n",
    "\n",
    "    j_hist = []\n",
    "    \n",
    "    for i in range(iterations):\n",
    "        h_res = h(theta, X)\n",
    "        \n",
    "        dt = np.dot(X.T, (h_res - Y))\n",
    "        \n",
    "        theta = theta - (alpha / m) * dt\n",
    "        \n",
    "        j_hist.append(J(theta, X, Y))\n",
    "    \n",
    "    return theta, np.asarray(j_hist)"
   ]
  },
  {
   "cell_type": "code",
   "execution_count": 513,
   "metadata": {},
   "outputs": [
    {
     "name": "stdout",
     "output_type": "stream",
     "text": [
      "θ = [ 1.71388635 14.35013779 13.71561879]\n",
      "J(θ) = 0.2034984061429642\n"
     ]
    }
   ],
   "source": [
    "gd_theta, j_hist = gd(norm_X, Y, 20000, 0.5)\n",
    "\n",
    "print(f'\\u03B8 = {gd_theta.reshape(-1)}')\n",
    "print(f'J(\\u03B8) = {j_hist[-1]}')"
   ]
  },
  {
   "cell_type": "code",
   "execution_count": 514,
   "metadata": {},
   "outputs": [
    {
     "data": {
      "text/plain": [
       "Text(0, 0.5, 'J(θ)')"
      ]
     },
     "execution_count": 514,
     "metadata": {},
     "output_type": "execute_result"
    },
    {
     "data": {
      "image/png": "[encoded data removed]",
      "text/plain": [
       "<Figure size 720x432 with 1 Axes>"
      ]
     },
     "metadata": {
      "needs_background": "light"
     },
     "output_type": "display_data"
    }
   ],
   "source": [
    "plt.figure(figsize=(10,6))\n",
    "plt.plot(range(len(j_hist)), j_hist)\n",
    "plt.grid(True)\n",
    "plt.xlabel(\"Итерации\")\n",
    "plt.ylabel(\"J(\\u03B8)\")"
   ]
  },
  {
   "cell_type": "markdown",
   "metadata": {},
   "source": [
    "**4. Реализуйте другие методы (как минимум 2) оптимизации для реализованной функции стоимости (например, Метод Нелдера — Мида, Алгоритм Бройдена — Флетчера — Гольдфарба — Шанно, генетические методы и т.п.). Разрешается использовать библиотечные реализации методов оптимизации (например, из библиотеки scipy).**"
   ]
  },
  {
   "cell_type": "code",
   "execution_count": 515,
   "metadata": {},
   "outputs": [],
   "source": [
    "def nelder_mead(X, Y):\n",
    "    result = optimize.minimize(J, x0=np.zeros([X.shape[1], 1]), args=(X, Y), method='Nelder-Mead')\n",
    "    return result.x, result.fun"
   ]
  },
  {
   "cell_type": "code",
   "execution_count": 516,
   "metadata": {},
   "outputs": [
    {
     "name": "stdout",
     "output_type": "stream",
     "text": [
      "θ = [ 1.71844706 14.3885508  13.75365682]\n",
      "J(θ) = 0.20349770159025407\n",
      "CPU times: user 25.2 ms, sys: 5.43 ms, total: 30.6 ms\n",
      "Wall time: 29.4 ms\n"
     ]
    }
   ],
   "source": [
    "%%time\n",
    "nm_theta, nm_cost = nelder_mead(norm_X, Y)\n",
    "\n",
    "print(f'\\u03B8 = {nm_theta}')\n",
    "print(f'J(\\u03B8) = {nm_cost}')"
   ]
  },
  {
   "cell_type": "code",
   "execution_count": 517,
   "metadata": {},
   "outputs": [],
   "source": [
    "def bfgs(X, Y):\n",
    "    result = optimize.minimize(J, x0=np.zeros([X.shape[1], 1]), args=(X, Y), method='BFGS')\n",
    "    return result.x, result.fun"
   ]
  },
  {
   "cell_type": "code",
   "execution_count": 518,
   "metadata": {},
   "outputs": [
    {
     "name": "stdout",
     "output_type": "stream",
     "text": [
      "θ = [ 1.71892074 14.39127926 13.75789856]\n",
      "J(θ) = 0.20349771157310137\n",
      "CPU times: user 9.62 ms, sys: 2.46 ms, total: 12.1 ms\n",
      "Wall time: 11.3 ms\n"
     ]
    }
   ],
   "source": [
    "%%time\n",
    "bfg_theta, bfg_cost = bfgs(norm_X, Y)\n",
    "\n",
    "print(f'\\u03B8 = {bfg_theta}')\n",
    "print(f'J(\\u03B8) = {bfg_cost}')"
   ]
  },
  {
   "cell_type": "code",
   "execution_count": 519,
   "metadata": {},
   "outputs": [],
   "source": [
    "def bfgs_cust(X, Y):\n",
    "    \n",
    "    def jac_cust(theta, X, Y):\n",
    "        m = len(Y)\n",
    "        h_res = h(theta, X)\n",
    "        dt = np.dot((h_res - Y).T, X)\n",
    "        res = ((1 / m) * dt)\n",
    "        return res\n",
    "    \n",
    "    init_theta = np.zeros([X.shape[1], 1]).flatten()\n",
    "    \n",
    "    result = optimize.minimize(J, x0=init_theta, args=(X, Y.flatten()), method='BFGS', jac=jac_cust)\n",
    "    return result.x, result.fun"
   ]
  },
  {
   "cell_type": "code",
   "execution_count": 520,
   "metadata": {},
   "outputs": [
    {
     "name": "stdout",
     "output_type": "stream",
     "text": [
      "θ = [ 1.71892074 14.39127926 13.75789847]\n",
      "J(θ) = 0.2034977115724625\n",
      "CPU times: user 7.11 ms, sys: 1.7 ms, total: 8.81 ms\n",
      "Wall time: 7.83 ms\n"
     ]
    }
   ],
   "source": [
    "%%time\n",
    "bfg_c_theta, bfg_c_cost = bfgs_cust(norm_X, Y)\n",
    "\n",
    "print(f'\\u03B8 = {bfg_c_theta}')\n",
    "print(f'J(\\u03B8) = {bfg_c_cost}')"
   ]
  },
  {
   "cell_type": "markdown",
   "metadata": {},
   "source": [
    "**5. Реализуйте функцию предсказания вероятности поступления студента в зависимости от значений оценок по экзаменам.**"
   ]
  },
  {
   "cell_type": "code",
   "execution_count": 521,
   "metadata": {},
   "outputs": [
    {
     "data": {
      "text/plain": [
       "1"
      ]
     },
     "execution_count": 521,
     "metadata": {},
     "output_type": "execute_result"
    }
   ],
   "source": [
    "def predict(theta, x):\n",
    "    new_x = np.insert(norm_func(x), 0, 1, axis=0).reshape(1, -1)\n",
    "    return (h(theta, new_x) >= 0.5).astype(int)  \n",
    "\n",
    "predict(gd_theta, [70, 55]).item()"
   ]
  },
  {
   "cell_type": "markdown",
   "metadata": {},
   "source": [
    "**6. Постройте разделяющую прямую, полученную в результате обучения модели. Совместите прямую с графиком из пункта 2.**"
   ]
  },
  {
   "cell_type": "code",
   "execution_count": 522,
   "metadata": {},
   "outputs": [
    {
     "data": {
      "image/png": "[encoded data removed]",
      "text/plain": [
       "<Figure size 720x432 with 1 Axes>"
      ]
     },
     "metadata": {
      "needs_background": "light"
     },
     "output_type": "display_data"
    }
   ],
   "source": [
    "boundary_x = np.array([np.min(norm_X[:,1]), np.max(norm_X[:,1])])\n",
    "boundary_y = (-1./gd_theta[2])*(gd_theta[0] + gd_theta[1]*boundary_x)\n",
    "\n",
    "\n",
    "line =  np.hstack((boundary_x.reshape(-1, 1), boundary_y.reshape(-1, 1)))\n",
    "line = denorm_func(line)\n",
    "\n",
    "\n",
    "plt.figure(figsize=(10,6))\n",
    "plt.plot(df1[r_pass]['exam_1'], df1[r_pass]['exam_2'], 'go', label='Поступил')\n",
    "plt.plot(df1[r_fail]['exam_1'], df1[r_fail]['exam_2'], 'rx', label='Не поступил')\n",
    "plt.plot(line[:,0], line[:,1],'b-',label='Граница')\n",
    "plt.xlabel('Экзамен 1')\n",
    "plt.ylabel('Экзамен 2')\n",
    "plt.legend(loc=3)\n",
    "plt.grid(True)"
   ]
  },
  {
   "cell_type": "markdown",
   "metadata": {},
   "source": [
    "**7. Загрузите данные ex2data2.txt из текстового файла.**"
   ]
  },
  {
   "cell_type": "markdown",
   "metadata": {},
   "source": [
    "Набор данных ex2data2.txt представляет собой текстовый файл, содержащий информацию о результате первого теста (первое число в строке) и результате второго теста (второе число в строке) изделий и результате прохождения контроля (0 - контроль не пройден, 1 - контроль пройден)."
   ]
  },
  {
   "cell_type": "code",
   "execution_count": 496,
   "metadata": {},
   "outputs": [
    {
     "data": {
      "text/html": [
       "<div>\n",
       "<style scoped>\n",
       "    .dataframe tbody tr th:only-of-type {\n",
       "        vertical-align: middle;\n",
       "    }\n",
       "\n",
       "    .dataframe tbody tr th {\n",
       "        vertical-align: top;\n",
       "    }\n",
       "\n",
       "    .dataframe thead th {\n",
       "        text-align: right;\n",
       "    }\n",
       "</style>\n",
       "<table border=\"1\" class=\"dataframe\">\n",
       "  <thead>\n",
       "    <tr style=\"text-align: right;\">\n",
       "      <th></th>\n",
       "      <th>test_1</th>\n",
       "      <th>test_2</th>\n",
       "      <th>result</th>\n",
       "    </tr>\n",
       "  </thead>\n",
       "  <tbody>\n",
       "    <tr>\n",
       "      <th>0</th>\n",
       "      <td>0.051267</td>\n",
       "      <td>0.69956</td>\n",
       "      <td>1</td>\n",
       "    </tr>\n",
       "    <tr>\n",
       "      <th>1</th>\n",
       "      <td>-0.092742</td>\n",
       "      <td>0.68494</td>\n",
       "      <td>1</td>\n",
       "    </tr>\n",
       "    <tr>\n",
       "      <th>2</th>\n",
       "      <td>-0.213710</td>\n",
       "      <td>0.69225</td>\n",
       "      <td>1</td>\n",
       "    </tr>\n",
       "    <tr>\n",
       "      <th>3</th>\n",
       "      <td>-0.375000</td>\n",
       "      <td>0.50219</td>\n",
       "      <td>1</td>\n",
       "    </tr>\n",
       "    <tr>\n",
       "      <th>4</th>\n",
       "      <td>-0.513250</td>\n",
       "      <td>0.46564</td>\n",
       "      <td>1</td>\n",
       "    </tr>\n",
       "  </tbody>\n",
       "</table>\n",
       "</div>"
      ],
      "text/plain": [
       "     test_1   test_2  result\n",
       "0  0.051267  0.69956       1\n",
       "1 -0.092742  0.68494       1\n",
       "2 -0.213710  0.69225       1\n",
       "3 -0.375000  0.50219       1\n",
       "4 -0.513250  0.46564       1"
      ]
     },
     "execution_count": 496,
     "metadata": {},
     "output_type": "execute_result"
    }
   ],
   "source": [
    "ex2_df = pandas.read_csv('ex2data2.txt', header=None, names=['test_1', 'test_2', 'result'])\n",
    "ex2_df.head()"
   ]
  },
  {
   "cell_type": "code",
   "execution_count": 526,
   "metadata": {},
   "outputs": [
    {
     "name": "stdout",
     "output_type": "stream",
     "text": [
      "X2.shape = (118, 2)\n",
      "Y2.shape = (118, 1)\n"
     ]
    }
   ],
   "source": [
    "tmp_ex2_df = ex2_df.copy()\n",
    "\n",
    "X2 = tmp_ex2_df.drop('result', axis=1).values\n",
    "print(f'X2.shape = {X2.shape}')\n",
    "\n",
    "Y2 = tmp_ex2_df['result'].values.reshape(-1, 1)\n",
    "print(f'Y2.shape = {Y2.shape}')\n",
    "\n",
    "r2_pass = Y2 == 1\n",
    "r2_fail = Y2 == 0"
   ]
  },
  {
   "cell_type": "markdown",
   "metadata": {},
   "source": [
    "**8. Постройте график, где по осям откладываются результаты тестов, а точки обозначаются двумя разными маркерами в зависимости от того, прошло ли изделие контроль или нет.**"
   ]
  },
  {
   "cell_type": "code",
   "execution_count": 835,
   "metadata": {},
   "outputs": [
    {
     "data": {
      "image/png": "[encoded data removed]",
      "text/plain": [
       "<Figure size 576x576 with 1 Axes>"
      ]
     },
     "metadata": {
      "needs_background": "light"
     },
     "output_type": "display_data"
    }
   ],
   "source": [
    "def draw_ex_2_data():\n",
    "    plt.figure(figsize=(8,8))\n",
    "\n",
    "    plt.plot(ex2_df[r2_pass]['test_1'], ex2_df[r2_pass]['test_2'], 'go', label='Прошел')\n",
    "    plt.plot(ex2_df[r2_fail]['test_1'], ex2_df[r2_fail]['test_2'], 'rx', label='Не прошел')\n",
    "    plt.xlabel('Тест 1')\n",
    "    plt.ylabel('Тест 2')\n",
    "    plt.legend()\n",
    "    plt.grid(True)\n",
    "draw_ex_2_data()"
   ]
  },
  {
   "cell_type": "markdown",
   "metadata": {},
   "source": [
    "**9. Постройте все возможные комбинации признаков x1 (результат первого теста) и x2 (результат второго теста), в которых степень полинома не превышает 6, т.е. 1, x1, x2, x12, x1x2, x22, …, x1x25, x26 (всего 28 комбинаций).**"
   ]
  },
  {
   "cell_type": "code",
   "execution_count": 565,
   "metadata": {},
   "outputs": [],
   "source": [
    "def gen_polynom_matrix(X, degrees):\n",
    "    # первый столбик с единицами\n",
    "    m = len(X)\n",
    "    result = np.ones([m, 1])\n",
    "    \n",
    "    for i in range(1, degrees+1):\n",
    "        for j in range(0, i+1):\n",
    "            x1 = X[:,0] ** (i-j)\n",
    "            x2 = X[:,1] ** (j)\n",
    "            new_column = (x1 * x2).reshape(m, 1) \n",
    "            result = np.hstack((result, new_column ))\n",
    "            \n",
    "    return result"
   ]
  },
  {
   "cell_type": "code",
   "execution_count": 568,
   "metadata": {},
   "outputs": [
    {
     "data": {
      "text/plain": [
       "(118, 28)"
      ]
     },
     "execution_count": 568,
     "metadata": {},
     "output_type": "execute_result"
    }
   ],
   "source": [
    "X2_new = gen_polynom_matrix(X2, 6)\n",
    "X2_new.shape"
   ]
  },
  {
   "cell_type": "markdown",
   "metadata": {},
   "source": [
    "**10. Реализуйте L2-регуляризацию для логистической регрессии и обучите ее на расширенном наборе признаков методом градиентного спуска.**"
   ]
  },
  {
   "cell_type": "code",
   "execution_count": 716,
   "metadata": {},
   "outputs": [
    {
     "data": {
      "text/plain": [
       "0.5352490576024491"
      ]
     },
     "execution_count": 716,
     "metadata": {},
     "output_type": "execute_result"
    }
   ],
   "source": [
    "def J_reg(theta, X, Y, l=0):\n",
    "    m = len(X)\n",
    "    \n",
    "    h_res = h(theta, X)\n",
    "    \n",
    "    e1 = np.dot(-Y.T, np.log(h_res))\n",
    "    e2 = np.dot((1 - Y).T, np.log(1 - h_res))\n",
    "    \n",
    "    reg = l/2 * np.sum(np.dot(theta[1:].T, theta[1:]))\n",
    "\n",
    "    return (1 / m) * ((e1 - e2) + reg).item()\n",
    "\n",
    "J_reg(np.asarray([0, 0.5, 3]), norm_X, Y, 0.1)"
   ]
  },
  {
   "cell_type": "code",
   "execution_count": 1401,
   "metadata": {},
   "outputs": [
    {
     "data": {
      "text/plain": [
       "array([[1.87880932e-02],\n",
       "       [7.77711864e-05]])"
      ]
     },
     "execution_count": 1401,
     "metadata": {},
     "output_type": "execute_result"
    }
   ],
   "source": [
    "def gd_step(theta, X, Y, lam=0):\n",
    "    m = len(Y)\n",
    "    h_res = h(theta, X)\n",
    "    \n",
    "    res = (1./m) * np.dot(X.T, (h_res - Y))\n",
    "\n",
    "    res[1:] = res[1:] + (lam / m) * theta[1:]\n",
    "    \n",
    "    return res\n",
    "\n",
    "gd_step(np.zeros([X2.shape[1], 1]), X2, Y2)"
   ]
  },
  {
   "cell_type": "code",
   "execution_count": 1402,
   "metadata": {},
   "outputs": [],
   "source": [
    "def gd_reg(X, Y, iterations = 200, alpha = 0.01, l=0):\n",
    "    n = X.shape[1]\n",
    "    m = len(Y)\n",
    "    \n",
    "    theta = np.zeros([n, 1])    \n",
    "\n",
    "    j_hist = []\n",
    "    \n",
    "    for i in range(iterations):         \n",
    "        theta = theta - alpha * gd_step(theta, X, Y, l)\n",
    "        j_hist.append(J_reg(theta, X, Y, l))\n",
    "    \n",
    "    return theta, np.asarray(j_hist)"
   ]
  },
  {
   "cell_type": "code",
   "execution_count": 1403,
   "metadata": {},
   "outputs": [
    {
     "name": "stdout",
     "output_type": "stream",
     "text": [
      "θ = [-0.30674593 -0.02682097]\n",
      "J(θ) = 0.6902628739903154\n"
     ]
    }
   ],
   "source": [
    "gd_reg_theta, j_reg_hist = gd_reg(X2, Y2, 10000)\n",
    "\n",
    "print(f'\\u03B8 = {gd_reg_theta.reshape(-1)}')\n",
    "print(f'J(\\u03B8) = {j_reg_hist[-1]}')"
   ]
  },
  {
   "cell_type": "code",
   "execution_count": 1404,
   "metadata": {},
   "outputs": [
    {
     "name": "stdout",
     "output_type": "stream",
     "text": [
      "θ = [-0.00166241 -0.01681749  0.00281924 -0.04800576 -0.01140428 -0.03447094\n",
      " -0.01695299 -0.00686679 -0.0078626  -0.02109818 -0.03785319 -0.00213995\n",
      " -0.01231582 -0.00306428 -0.03684644 -0.01883949 -0.00413983 -0.00320314\n",
      " -0.00555821 -0.00436659 -0.02883546 -0.02987035 -0.00101293 -0.00609573\n",
      " -0.0003745  -0.00696725 -0.00136474 -0.03657153]\n",
      "J(θ) = 0.6818261709936212\n"
     ]
    }
   ],
   "source": [
    "gd_reg_theta_new, j_reg_hist_new = gd_reg(X2_new, Y2, 100)\n",
    "\n",
    "print(f'\\u03B8 = {gd_reg_theta_new.reshape(-1)}')\n",
    "print(f'J(\\u03B8) = {j_reg_hist_new[-1]}')"
   ]
  },
  {
   "cell_type": "markdown",
   "metadata": {},
   "source": [
    "**11. Реализуйте другие методы оптимизации.**"
   ]
  },
  {
   "cell_type": "code",
   "execution_count": 1405,
   "metadata": {},
   "outputs": [],
   "source": [
    "def bfgs_cust_reg(X, Y, l=0):    \n",
    "    init_theta = np.zeros([X.shape[1], 1]).flatten()\n",
    "    \n",
    "    result = optimize.minimize(J_reg, x0=init_theta, args=(X, Y.flatten(), l), method='BFGS', jac=gd_step)\n",
    "    return result.x, result.fun"
   ]
  },
  {
   "cell_type": "code",
   "execution_count": 1406,
   "metadata": {},
   "outputs": [
    {
     "data": {
      "text/plain": [
       "(array([   35.10190428,    44.11914625,    69.27185642,  -344.27899474,\n",
       "         -198.23459547,  -184.2283759 ,  -295.82033534,  -621.73253863,\n",
       "         -510.84915938,  -328.31169919,  1094.70014914,  1269.58571532,\n",
       "         1757.74874186,   900.93771654,   436.58874639,   471.12022238,\n",
       "         1236.23838812,  1822.81980636,  1929.66688256,  1131.05265486,\n",
       "          463.79905599, -1142.11718891, -2020.95888207, -3463.39913904,\n",
       "        -3484.50980783, -3252.26660652, -1546.00886953,  -510.41250284]),\n",
       " 0.22456873260621155)"
      ]
     },
     "execution_count": 1406,
     "metadata": {},
     "output_type": "execute_result"
    }
   ],
   "source": [
    "bfgs_cust_reg(X2_new, Y2)"
   ]
  },
  {
   "cell_type": "markdown",
   "metadata": {},
   "source": [
    "**12. Реализуйте функцию предсказания вероятности прохождения контроля изделием в зависимости от результатов тестов.**"
   ]
  },
  {
   "cell_type": "code",
   "execution_count": 1407,
   "metadata": {},
   "outputs": [
    {
     "name": "stdout",
     "output_type": "stream",
     "text": [
      "Should equal to 1 - 1\n",
      "Should equal to 0 - 0\n"
     ]
    }
   ],
   "source": [
    "def predict_2(theta, x):\n",
    "    return (h(theta, x) >= 0.5).astype(int)  \n",
    "\n",
    "print(f'Should equal to 1 - {predict_2(gd_reg_theta, [-0.25, 0.5]).item()}')\n",
    "print(f'Should equal to 0 - {predict_2(gd_reg_theta, [1, 1]).item()}')"
   ]
  },
  {
   "cell_type": "markdown",
   "metadata": {},
   "source": [
    "**13. Постройте разделяющую кривую, полученную в результате обучения модели. Совместите прямую с графиком из пункта 7.**"
   ]
  },
  {
   "cell_type": "code",
   "execution_count": 1408,
   "metadata": {},
   "outputs": [],
   "source": [
    "def plotBoundary(X, Y, l=0.):\n",
    "\n",
    "    theta, j_h = bfgs_cust_reg(X, Y, l)\n",
    "    #theta, j_h = gd_reg(X, Y,iterations = 12000, alpha = 0.01, l=l)\n",
    "    \n",
    "    u = np.linspace(-1, 1.5 , 50)\n",
    "    v = np.linspace(-1, 1.5 , 50)\n",
    "    \n",
    "    z = np.zeros((len(u), len(v)))\n",
    "    \n",
    "    \n",
    "    for i in range(len(u)):\n",
    "        for j in range(len(v)):\n",
    "            fearure_row = gen_polynom_matrix(np.array([[u[i], v[j]]]), 6)\n",
    "            z[i][j] = h(theta, fearure_row)\n",
    "     \n",
    "    z = z.T\n",
    "    \n",
    "    draw_ex_2_data()\n",
    "    c = plt.contour( u, v, z, 0, colors='blue')\n",
    "    c.collections[0].set_label(f'\\u03bb = {l}')\n",
    "    print(c.collections)\n",
    "    plt.legend()\n",
    "    plt.title(\"Разделяющая кривая\")"
   ]
  },
  {
   "cell_type": "code",
   "execution_count": 1411,
   "metadata": {},
   "outputs": [
    {
     "name": "stdout",
     "output_type": "stream",
     "text": [
      "<a list of 3 mcoll.LineCollection objects>\n"
     ]
    },
    {
     "data": {
      "image/png": "[encoded data removed]",
      "text/plain": [
       "<Figure size 576x576 with 1 Axes>"
      ]
     },
     "metadata": {
      "needs_background": "light"
     },
     "output_type": "display_data"
    }
   ],
   "source": [
    "plotBoundary(X2_new, Y2, 0.001)"
   ]
  },
  {
   "cell_type": "markdown",
   "metadata": {},
   "source": [
    "**14. Попробуйте различные значения параметра регуляризации λ. Как выбор данного значения влияет на вид разделяющей кривой? Ответ дайте в виде графиков.**"
   ]
  },
  {
   "cell_type": "code",
   "execution_count": 1412,
   "metadata": {},
   "outputs": [
    {
     "name": "stdout",
     "output_type": "stream",
     "text": [
      "<a list of 3 mcoll.LineCollection objects>\n"
     ]
    },
    {
     "data": {
      "image/png": "[encoded data removed]",
      "text/plain": [
       "<Figure size 576x576 with 1 Axes>"
      ]
     },
     "metadata": {
      "needs_background": "light"
     },
     "output_type": "display_data"
    }
   ],
   "source": [
    "plotBoundary(X2_new, Y2, 0.01)"
   ]
  },
  {
   "cell_type": "code",
   "execution_count": 1166,
   "metadata": {},
   "outputs": [
    {
     "name": "stdout",
     "output_type": "stream",
     "text": [
      "<a list of 3 mcoll.LineCollection objects>\n"
     ]
    },
    {
     "data": {
      "image/png": "[encoded data removed]",
      "text/plain": [
       "<Figure size 576x576 with 1 Axes>"
      ]
     },
     "metadata": {
      "needs_background": "light"
     },
     "output_type": "display_data"
    }
   ],
   "source": [
    "plotBoundary(X2_new, Y2, 0.1)"
   ]
  },
  {
   "cell_type": "code",
   "execution_count": 1168,
   "metadata": {},
   "outputs": [
    {
     "name": "stdout",
     "output_type": "stream",
     "text": [
      "<a list of 3 mcoll.LineCollection objects>\n"
     ]
    },
    {
     "data": {
      "image/png": "[encoded data removed]",
      "text/plain": [
       "<Figure size 576x576 with 1 Axes>"
      ]
     },
     "metadata": {
      "needs_background": "light"
     },
     "output_type": "display_data"
    }
   ],
   "source": [
    "plotBoundary(X2_new, Y2, 20)"
   ]
  },
  {
   "cell_type": "code",
   "execution_count": null,
   "metadata": {},
   "outputs": [],
   "source": []
  },
  {
   "cell_type": "markdown",
   "metadata": {},
   "source": [
    "**15. Загрузите данные ex2data3.mat из файла.**"
   ]
  },
  {
   "cell_type": "markdown",
   "metadata": {},
   "source": [
    "Набор данных ex2data3.mat представляет собой файл формата *.mat (т.е. сохраненного из Matlab). Набор содержит 5000 изображений 20x20 в оттенках серого. Каждый пиксель представляет собой значение яркости (вещественное число). Каждое изображение сохранено в виде вектора из 400 элементов. В результате загрузки набора данных должна быть получена матрица 5000x400. Далее расположены метки классов изображений от 1 до 9 (соответствуют цифрам от 1 до 9), а также 10 (соответствует цифре 0).\n"
   ]
  },
  {
   "cell_type": "code",
   "execution_count": 1225,
   "metadata": {},
   "outputs": [],
   "source": [
    "img_data = scipy.io.loadmat('ex2data3.mat')"
   ]
  },
  {
   "cell_type": "code",
   "execution_count": 1226,
   "metadata": {},
   "outputs": [],
   "source": [
    "ex_3_X, ex_3_Y = img_data['X'], img_data['y']"
   ]
  },
  {
   "cell_type": "code",
   "execution_count": 1227,
   "metadata": {},
   "outputs": [
    {
     "data": {
      "text/plain": [
       "(5000, 400)"
      ]
     },
     "execution_count": 1227,
     "metadata": {},
     "output_type": "execute_result"
    }
   ],
   "source": [
    "ex_3_X.shape"
   ]
  },
  {
   "cell_type": "markdown",
   "metadata": {},
   "source": [
    "**16. Визуализируйте несколько случайных изображений из набора данных. Визуализация должна содержать каждую цифру как минимум один раз.**\n"
   ]
  },
  {
   "cell_type": "code",
   "execution_count": 1228,
   "metadata": {},
   "outputs": [],
   "source": [
    "vals, indexes = np.unique(ex_3_Y, return_index=True)"
   ]
  },
  {
   "cell_type": "code",
   "execution_count": 1229,
   "metadata": {},
   "outputs": [
    {
     "data": {
      "text/plain": [
       "array([ 1,  2,  3,  4,  5,  6,  7,  8,  9, 10], dtype=uint8)"
      ]
     },
     "execution_count": 1229,
     "metadata": {},
     "output_type": "execute_result"
    }
   ],
   "source": [
    "vals"
   ]
  },
  {
   "cell_type": "code",
   "execution_count": 1230,
   "metadata": {},
   "outputs": [],
   "source": [
    "def getImgFromRow(row):\n",
    "    return row.reshape(20, 20).T"
   ]
  },
  {
   "cell_type": "code",
   "execution_count": 1232,
   "metadata": {},
   "outputs": [
    {
     "data": {
      "image/png": "[encoded data removed]",
      "text/plain": [
       "<Figure size 432x288 with 10 Axes>"
      ]
     },
     "metadata": {
      "needs_background": "light"
     },
     "output_type": "display_data"
    }
   ],
   "source": [
    "fig, axs = plt.subplots(1, 10)\n",
    "\n",
    "for i in range(len(indexes)):\n",
    "    index = indexes[i]\n",
    "    val = vals[i]\n",
    "    axs[i].imshow(getImgFromRow(ex_3_X[index]), cmap='gray')\n",
    "    axs[i].axis(\"off\")\n",
    "    \n",
    "plt.show()"
   ]
  },
  {
   "cell_type": "markdown",
   "metadata": {},
   "source": [
    "**17. Реализуйте бинарный классификатор с помощью логистической регрессии с использованием векторизации (функции потерь и градиентного спуска).**\n",
    "\n",
    "**17. Добавьте L2-регуляризацию к модели.**\n"
   ]
  },
  {
   "cell_type": "code",
   "execution_count": 1233,
   "metadata": {},
   "outputs": [],
   "source": [
    "ex_3_m = len(ex_3_Y)\n",
    "ex_3_n = ex_3_X.shape[1]"
   ]
  },
  {
   "cell_type": "code",
   "execution_count": 1234,
   "metadata": {},
   "outputs": [
    {
     "name": "stdout",
     "output_type": "stream",
     "text": [
      "m = 5000, n = 400\n"
     ]
    }
   ],
   "source": [
    "print(f'm = {ex_3_m}, n = {ex_3_n}')"
   ]
  },
  {
   "cell_type": "code",
   "execution_count": 1235,
   "metadata": {},
   "outputs": [
    {
     "data": {
      "text/plain": [
       "(400, 1)"
      ]
     },
     "execution_count": 1235,
     "metadata": {},
     "output_type": "execute_result"
    }
   ],
   "source": [
    "ex_3_init_theta = np.zeros([ex_3_n, 1])\n",
    "ex_3_init_theta.shape"
   ]
  },
  {
   "cell_type": "markdown",
   "metadata": {},
   "source": [
    "**19. Реализуйте многоклассовую классификацию по методу “один против всех”.**"
   ]
  },
  {
   "cell_type": "code",
   "execution_count": 1413,
   "metadata": {},
   "outputs": [],
   "source": [
    "ex_3_X_ext = np.hstack((np.ones((ex_3_m, 1)), ex_3_X))"
   ]
  },
  {
   "cell_type": "code",
   "execution_count": 1488,
   "metadata": {},
   "outputs": [],
   "source": [
    "def fmin_cg_alg(X, Y, lam=0):\n",
    "    init_theta = np.zeros([X.shape[1], 1]).flatten()\n",
    "    result = optimize.fmin_cg(J_reg, fprime=gd_step, x0=init_theta, args=(X, Y.flatten(), lam), maxiter=50, disp=False, full_output=True)\n",
    "    return result[0], result[1]"
   ]
  },
  {
   "cell_type": "code",
   "execution_count": 1535,
   "metadata": {},
   "outputs": [
    {
     "name": "stdout",
     "output_type": "stream",
     "text": [
      "0 => 10\n"
     ]
    },
    {
     "name": "stderr",
     "output_type": "stream",
     "text": [
      "/Users/ls/anaconda3/lib/python3.7/site-packages/ipykernel_launcher.py:7: RuntimeWarning: divide by zero encountered in log\n",
      "  import sys\n",
      "/Users/ls/anaconda3/lib/python3.7/site-packages/ipykernel_launcher.py:7: RuntimeWarning: divide by zero encountered in log\n",
      "  import sys\n"
     ]
    },
    {
     "name": "stdout",
     "output_type": "stream",
     "text": [
      "1 => 1\n"
     ]
    },
    {
     "name": "stderr",
     "output_type": "stream",
     "text": [
      "/Users/ls/anaconda3/lib/python3.7/site-packages/ipykernel_launcher.py:7: RuntimeWarning: divide by zero encountered in log\n",
      "  import sys\n",
      "/Users/ls/anaconda3/lib/python3.7/site-packages/ipykernel_launcher.py:7: RuntimeWarning: divide by zero encountered in log\n",
      "  import sys\n"
     ]
    },
    {
     "name": "stdout",
     "output_type": "stream",
     "text": [
      "2 => 2\n"
     ]
    },
    {
     "name": "stderr",
     "output_type": "stream",
     "text": [
      "/Users/ls/anaconda3/lib/python3.7/site-packages/ipykernel_launcher.py:7: RuntimeWarning: divide by zero encountered in log\n",
      "  import sys\n",
      "/Users/ls/anaconda3/lib/python3.7/site-packages/ipykernel_launcher.py:7: RuntimeWarning: divide by zero encountered in log\n",
      "  import sys\n"
     ]
    },
    {
     "name": "stdout",
     "output_type": "stream",
     "text": [
      "3 => 3\n"
     ]
    },
    {
     "name": "stderr",
     "output_type": "stream",
     "text": [
      "/Users/ls/anaconda3/lib/python3.7/site-packages/ipykernel_launcher.py:7: RuntimeWarning: divide by zero encountered in log\n",
      "  import sys\n",
      "/Users/ls/anaconda3/lib/python3.7/site-packages/ipykernel_launcher.py:7: RuntimeWarning: divide by zero encountered in log\n",
      "  import sys\n"
     ]
    },
    {
     "name": "stdout",
     "output_type": "stream",
     "text": [
      "4 => 4\n"
     ]
    },
    {
     "name": "stderr",
     "output_type": "stream",
     "text": [
      "/Users/ls/anaconda3/lib/python3.7/site-packages/ipykernel_launcher.py:7: RuntimeWarning: divide by zero encountered in log\n",
      "  import sys\n",
      "/Users/ls/anaconda3/lib/python3.7/site-packages/ipykernel_launcher.py:7: RuntimeWarning: divide by zero encountered in log\n",
      "  import sys\n"
     ]
    },
    {
     "name": "stdout",
     "output_type": "stream",
     "text": [
      "5 => 5\n",
      "6 => 6\n"
     ]
    },
    {
     "name": "stderr",
     "output_type": "stream",
     "text": [
      "/Users/ls/anaconda3/lib/python3.7/site-packages/ipykernel_launcher.py:7: RuntimeWarning: divide by zero encountered in log\n",
      "  import sys\n",
      "/Users/ls/anaconda3/lib/python3.7/site-packages/ipykernel_launcher.py:7: RuntimeWarning: divide by zero encountered in log\n",
      "  import sys\n"
     ]
    },
    {
     "name": "stdout",
     "output_type": "stream",
     "text": [
      "7 => 7\n"
     ]
    },
    {
     "name": "stderr",
     "output_type": "stream",
     "text": [
      "/Users/ls/anaconda3/lib/python3.7/site-packages/ipykernel_launcher.py:7: RuntimeWarning: divide by zero encountered in log\n",
      "  import sys\n",
      "/Users/ls/anaconda3/lib/python3.7/site-packages/ipykernel_launcher.py:7: RuntimeWarning: divide by zero encountered in log\n",
      "  import sys\n"
     ]
    },
    {
     "name": "stdout",
     "output_type": "stream",
     "text": [
      "8 => 8\n",
      "9 => 9\n"
     ]
    },
    {
     "data": {
      "text/plain": [
       "(10, 401)"
      ]
     },
     "execution_count": 1535,
     "metadata": {},
     "output_type": "execute_result"
    }
   ],
   "source": [
    "def train_classifier(X, Y, lam=0):\n",
    "    m = X.shape[0]\n",
    "    n = X.shape[1]\n",
    "    \n",
    "    classes_count = 10\n",
    "    \n",
    "    thetas = np.zeros([classes_count, n])\n",
    "    \n",
    "    for klass in range(classes_count):\n",
    "        class_index = klass if klass else 10 # 10 - это 0\n",
    "        print(f'{klass} => {class_index}')\n",
    "        replaced_Y = (Y == class_index).astype(int)\n",
    "        #theta, cost = fmin_cg_alg(X, replaced_Y, lam)  # lam - 0.001 -> 95.6%\n",
    "        theta, cost = bfgs_cust_reg(X, replaced_Y, lam) # lam - 0.001 -> 97.2%\n",
    "        thetas[klass] = theta\n",
    "        \n",
    "    return thetas\n",
    "    \n",
    "thetas = train_classifier(ex_3_X_ext, ex_3_Y, 0.001)\n",
    "thetas.shape"
   ]
  },
  {
   "cell_type": "markdown",
   "metadata": {},
   "source": [
    "**20. Реализуйте функцию предсказания класса по изображению с использованием обученных классификаторов.**"
   ]
  },
  {
   "cell_type": "code",
   "execution_count": 1491,
   "metadata": {},
   "outputs": [],
   "source": [
    "def predClass(thetas, x):\n",
    "    return np.argmax(h(thetas.T, x))"
   ]
  },
  {
   "cell_type": "code",
   "execution_count": 1497,
   "metadata": {},
   "outputs": [
    {
     "name": "stdout",
     "output_type": "stream",
     "text": [
      "Class = 6, predicted = 6\n"
     ]
    }
   ],
   "source": [
    "i = 3000\n",
    "x = ex_3_X_ext[i]\n",
    "y = ex_3_Y[i].item()\n",
    "\n",
    "print(f'Class = {y}, predicted = {predClass(thetas, x)}')"
   ]
  },
  {
   "cell_type": "markdown",
   "metadata": {},
   "source": [
    "**21. Процент правильных классификаций на обучающей выборке должен составлять около 95%.**"
   ]
  },
  {
   "cell_type": "code",
   "execution_count": 1534,
   "metadata": {},
   "outputs": [
    {
     "name": "stdout",
     "output_type": "stream",
     "text": [
      "Accuracy: 97.2%\n"
     ]
    }
   ],
   "source": [
    "def calc_accuracy(thetas, X, Y):\n",
    "    m = X.shape[0]\n",
    "    correct = 0\n",
    "    \n",
    "    for i in range(m):\n",
    "        pred = predClass(thetas, X[i])\n",
    "        pred = pred if pred else 10\n",
    "        \n",
    "        if pred == Y[i]:\n",
    "            correct += 1\n",
    "\n",
    "    return correct/m\n",
    "\n",
    "print(\"Accuracy: %0.1f%%\"%(100*calc_accuracy(thetas, ex_3_X_ext, ex_3_Y)))"
   ]
  },
  {
   "cell_type": "code",
   "execution_count": null,
   "metadata": {},
   "outputs": [],
   "source": []
  }
 ],
 "metadata": {
  "kernelspec": {
   "display_name": "Python 3",
   "language": "python",
   "name": "python3"
  },
  "language_info": {
   "codemirror_mode": {
    "name": "ipython",
    "version": 3
   },
   "file_extension": ".py",
   "mimetype": "text/x-python",
   "name": "python",
   "nbconvert_exporter": "python",
   "pygments_lexer": "ipython3",
   "version": "3.7.3"
  }
 },
 "nbformat": 4,
 "nbformat_minor": 2
}
