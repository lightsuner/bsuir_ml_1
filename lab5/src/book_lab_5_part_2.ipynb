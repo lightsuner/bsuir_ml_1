{
 "cells": [
  {
   "cell_type": "code",
   "execution_count": 48,
   "metadata": {},
   "outputs": [],
   "source": [
    "import numpy as np\n",
    "import matplotlib.pyplot as plt\n",
    "import scipy.io\n",
    "from sklearn import svm\n",
    "import nltk"
   ]
  },
  {
   "cell_type": "markdown",
   "metadata": {},
   "source": [
    "Набор данных spamTrain.mat представляет собой файл формата *.mat (т.е. сохраненного из Matlab). Набор содержит две переменные X - вектор, кодирующий отсутствие (0) или присутствие (1) слова из словаря vocab.txt в письме, и y - метка класса: 0 - не спам, 1 - спам. Набор используется для обучения классификатора."
   ]
  },
  {
   "cell_type": "markdown",
   "metadata": {},
   "source": [
    "**13. Загрузите данные spamTrain.mat из файла.**"
   ]
  },
  {
   "cell_type": "code",
   "execution_count": 5,
   "metadata": {},
   "outputs": [
    {
     "data": {
      "text/plain": [
       "(4000, 1899)"
      ]
     },
     "execution_count": 5,
     "metadata": {},
     "output_type": "execute_result"
    }
   ],
   "source": [
    "data1 = scipy.io.loadmat('spamTrain.mat')\n",
    "X1 = data1['X']\n",
    "y1 = data1['y']\n",
    "\n",
    "X1.shape"
   ]
  },
  {
   "cell_type": "markdown",
   "metadata": {},
   "source": [
    "**14. Обучите классификатор SVM.**"
   ]
  },
  {
   "cell_type": "code",
   "execution_count": 12,
   "metadata": {},
   "outputs": [
    {
     "name": "stdout",
     "output_type": "stream",
     "text": [
      "spamTrain accuracy:  99.97500000000001\n"
     ]
    }
   ],
   "source": [
    "model1 = svm.SVC(C=0.5, kernel='linear')\n",
    "model1.fit( X1, y1.flatten() )\n",
    "print('spamTrain accuracy: ', (model1.score(X1, y1.flatten())) * 100)"
   ]
  },
  {
   "cell_type": "markdown",
   "metadata": {},
   "source": [
    "Набор данных spamTest.mat представляет собой файл формата *.mat (т.е. сохраненного из Matlab). Набор содержит две переменные Xtest - вектор, кодирующий отсутствие (0) или присутствие (1) слова из словаря vocab.txt в письме, и ytest - метка класса: 0 - не спам, 1 - спам. Набор используется для проверки качества классификатора."
   ]
  },
  {
   "cell_type": "markdown",
   "metadata": {},
   "source": [
    "**15. Загрузите данные spamTest.mat из файла.**"
   ]
  },
  {
   "cell_type": "code",
   "execution_count": 15,
   "metadata": {},
   "outputs": [],
   "source": [
    "data2 = scipy.io.loadmat('spamTest.mat')\n",
    "X1_test = data2['Xtest']\n",
    "y1_test = data2['ytest']"
   ]
  },
  {
   "cell_type": "code",
   "execution_count": 16,
   "metadata": {},
   "outputs": [
    {
     "name": "stdout",
     "output_type": "stream",
     "text": [
      "spamTest accuracy:  97.6\n"
     ]
    }
   ],
   "source": [
    "print('spamTest accuracy: ', (model1.score(X1_test, y1_test.flatten())) * 100)"
   ]
  },
  {
   "cell_type": "markdown",
   "metadata": {},
   "source": [
    "**16. Подберите параметры C и σ2**"
   ]
  },
  {
   "cell_type": "code",
   "execution_count": 19,
   "metadata": {},
   "outputs": [],
   "source": [
    "def sigma_to_gamma_ang(sigma):\n",
    "    return np.power(sigma, -2.) / 2"
   ]
  },
  {
   "cell_type": "code",
   "execution_count": 20,
   "metadata": {},
   "outputs": [],
   "source": [
    "C_vals = [0.01, 0.04, 0.08, 0.1, 0.2, 0.3, 0.4, 0.5, 0.6, 0.7, 0.8, 0.9, 1, 2, 5, 10, 20, 40, 80, 100]\n",
    "sigma_vals = [0.01, 0.04, 0.05, 0.06, 0.07, 0.08, 0.09, 0.1, 0.4, 0.8, 1, 2, 5, 10, 20, 40, 80, 100]"
   ]
  },
  {
   "cell_type": "markdown",
   "metadata": {},
   "source": [
    "Для ядра гаусса"
   ]
  },
  {
   "cell_type": "code",
   "execution_count": 120,
   "metadata": {},
   "outputs": [
    {
     "name": "stdout",
     "output_type": "stream",
     "text": [
      "Current progress: 360/360\n",
      "Лучшая комбинация набрала 0.993: С = 5, sigma = 10\n"
     ]
    }
   ],
   "source": [
    "from IPython.display import clear_output, display\n",
    "\n",
    "best_score = 0\n",
    "params = {\n",
    "    'C': 0,\n",
    "    'sigma': 0\n",
    "}\n",
    "\n",
    "total_iter = len(C_vals) * len(sigma_vals)\n",
    "\n",
    "i = 0\n",
    "for C in C_vals:\n",
    "    for sigma in sigma_vals:\n",
    "        clear_output(wait=True)\n",
    "        i += 1\n",
    "        print(f'Current progress: {i}/{total_iter}')\n",
    "        model = svm.SVC(C=C, kernel='rbf', gamma=sigma_to_gamma_ang(sigma))\n",
    "        model.fit(X1, y1.flatten())\n",
    "        score = model.score(X1_test, y1_test)\n",
    "        if score > best_score:\n",
    "            best_score = score\n",
    "            params['C'] = C\n",
    "            params['sigma'] = sigma\n",
    "            \n",
    "print(f\"Лучшая комбинация набрала {best_score}: С = {params['C']}, sigma = {params['sigma']}\")"
   ]
  },
  {
   "cell_type": "markdown",
   "metadata": {},
   "source": [
    "Для линейного ядра"
   ]
  },
  {
   "cell_type": "code",
   "execution_count": 360,
   "metadata": {},
   "outputs": [
    {
     "name": "stdout",
     "output_type": "stream",
     "text": [
      "Current progress: 20/20\n",
      "Лучшая комбинация набрала 0.989: С = 0.04\n"
     ]
    }
   ],
   "source": [
    "from IPython.display import clear_output, display\n",
    "\n",
    "best_score_linear = 0\n",
    "params_linear_С = 0\n",
    "\n",
    "total_iter_linear = len(C_vals)\n",
    "\n",
    "i = 0\n",
    "for C in C_vals:\n",
    "    clear_output(wait=True)\n",
    "    i += 1\n",
    "    print(f'Current progress: {i}/{total_iter_linear}')\n",
    "    model = svm.SVC(C=C, kernel='linear')\n",
    "    model.fit(X1, y1.flatten())\n",
    "    score = model.score(X1_test, y1_test)\n",
    "    if score > best_score_linear:\n",
    "        best_score_linear = score\n",
    "        params_linear_С = C\n",
    "            \n",
    "print(f\"Лучшая комбинация набрала {best_score_linear}: С = {params_linear_С}\")"
   ]
  },
  {
   "cell_type": "markdown",
   "metadata": {},
   "source": [
    "**17. Реализуйте функцию предобработки текста письма, включающую в себя**"
   ]
  },
  {
   "cell_type": "code",
   "execution_count": 59,
   "metadata": {},
   "outputs": [
    {
     "data": {
      "text/plain": [
       "'discount number number number number other thing p tag click here thi is emailaddr number and number he lost number dollar beauti'"
      ]
     },
     "execution_count": 59,
     "metadata": {},
     "output_type": "execute_result"
    }
   ],
   "source": [
    "def prepare_text(text):\n",
    "    import re\n",
    "    \n",
    "    text = text.lower() #перевод в нижний регистр;\n",
    "    text = re.sub('<a .*href=\"([^\"]*)\".*?<\\/a>', r' \\1 ', text) # достать ссылки из тегов\n",
    "    text = re.sub('<[^<>]+>', ' ', text) #удаление HTML тэгов\n",
    "    text = re.sub('(http|https)://[^\\s]*', ' httpaddr ', text) #замена URL на одно слово (например, “httpaddr”)\n",
    "    text = re.sub('[^\\s]+@[^\\s]+', ' emailaddr ', text) #замена email-адресов на одно слово (например, “emailaddr”)\n",
    "    text = re.sub('[0-9]+', ' number ', text)     #замена чисел на одно слово (например, “number”)\n",
    "    text = re.sub('[$]+', ' dollar ', text)     #замена знаков доллара ($) на слово “dollar”\n",
    "    #остальные символы должны быть удалены и заменены на пробелы, т.е. в результате получится текст, состоящий из слов, разделенных пробелами.\n",
    "    text = re.sub('[_]+', ' ', text)\n",
    "    text = re.sub('[^\\w]', ' ', text)\n",
    "    text = re.sub('\\s+', ' ', text)\n",
    "    text = text.strip()\n",
    "    #замена форм слов на исходное слово (например, слова “discount”, “discounts”, “discounted”, “discounting” должны быть заменены на слово “discount”). Такой подход называется stemming;\n",
    "    stemmer = nltk.stem.porter.PorterStemmer()\n",
    "    words = text.split()\n",
    "    stemmed_words = []\n",
    "    for word in words:\n",
    "        stemmed = stemmer.stem(word)\n",
    "        if not len(stemmed): continue\n",
    "        stemmed_words.append(stemmed)\n",
    "        \n",
    "    return ' '.join(stemmed_words)\n",
    "\n",
    "prepare_text(\"discounted №4843,,(03240.%\\\"№:304-235!\\\"№%:,.;()_+=_-OthEr things <p>p-tag</p><a href='https://somelink.com'>click here</a> THIS is some@tut.by 2019 and 7 he lost 15$ beautiful\")"
   ]
  },
  {
   "cell_type": "markdown",
   "metadata": {},
   "source": [
    "**18. Загрузите коды слов из словаря vocab.txt.**"
   ]
  },
  {
   "cell_type": "code",
   "execution_count": 60,
   "metadata": {},
   "outputs": [],
   "source": [
    "def load_vocab(filename):\n",
    "    dict = {}\n",
    "    with open(filename) as f:\n",
    "        for line in f:\n",
    "            (val, key) = line.split()\n",
    "            dict[key] = int(val)\n",
    "    return dict"
   ]
  },
  {
   "cell_type": "code",
   "execution_count": 82,
   "metadata": {},
   "outputs": [],
   "source": [
    "vocab = load_vocab('vocab.txt')"
   ]
  },
  {
   "cell_type": "markdown",
   "metadata": {},
   "source": [
    "**19. Реализуйте функцию замены слов в тексте письма после предобработки на их соответствующие коды.**"
   ]
  },
  {
   "cell_type": "code",
   "execution_count": 415,
   "metadata": {},
   "outputs": [],
   "source": [
    "def text_to_vec(text, vocab):\n",
    "    n = len(vocab.keys())\n",
    "    vec = np.zeros(n)\n",
    "    \n",
    "    words = prepare_text(text).split()\n",
    "    for word in words:\n",
    "        if word not in vocab: continue\n",
    "        idx = vocab[word]\n",
    "        #if idx >= n: continue # hack \n",
    "        vec[idx-1] = 1\n",
    "        \n",
    "    return vec.reshape(1, -1)"
   ]
  },
  {
   "cell_type": "code",
   "execution_count": 416,
   "metadata": {},
   "outputs": [
    {
     "name": "stdout",
     "output_type": "stream",
     "text": [
      "(array([0., 1.]), array([1892,    7]))\n"
     ]
    },
    {
     "data": {
      "text/plain": [
       "(1, 1899)"
      ]
     },
     "execution_count": 416,
     "metadata": {},
     "output_type": "execute_result"
    }
   ],
   "source": [
    "t_v = text_to_vec('here is my own email, beauti beautiful day of week', vocab)\n",
    "print(np.unique(t_v, return_counts=True))\n",
    "t_v.shape"
   ]
  },
  {
   "cell_type": "markdown",
   "metadata": {},
   "source": [
    "**20. Реализуйте функцию преобразования текста письма в вектор признаков (в таком же формате как в файлах spamTrain.mat и spamTest.mat).**"
   ]
  },
  {
   "cell_type": "code",
   "execution_count": 417,
   "metadata": {},
   "outputs": [],
   "source": [
    "def file_to_vec(filename, vocab):\n",
    "    text = open(filename,'r').read()\n",
    "    \n",
    "    return text_to_vec(text, vocab)"
   ]
  },
  {
   "cell_type": "markdown",
   "metadata": {},
   "source": [
    "**21. Проверьте работу классификатора на письмах из файлов emailSample1.txt, emailSample2.txt, spamSample1.txt и spamSample2.txt.**"
   ]
  },
  {
   "cell_type": "code",
   "execution_count": 418,
   "metadata": {},
   "outputs": [
    {
     "data": {
      "text/plain": [
       "SVC(C=5, cache_size=200, class_weight=None, coef0=0.0,\n",
       "  decision_function_shape='ovr', degree=3, gamma=0.005, kernel='rbf',\n",
       "  max_iter=-1, probability=False, random_state=None, shrinking=True,\n",
       "  tol=0.001, verbose=False)"
      ]
     },
     "execution_count": 418,
     "metadata": {},
     "output_type": "execute_result"
    }
   ],
   "source": [
    "gauss_best_C = 5\n",
    "gauss_best_sigma = 10\n",
    "\n",
    "best_gaussian_model = svm.SVC(C=gauss_best_C, kernel='rbf', gamma=sigma_to_gamma_ang(gauss_best_sigma))\n",
    "best_gaussian_model.fit(X1, y1.flatten())"
   ]
  },
  {
   "cell_type": "code",
   "execution_count": 419,
   "metadata": {},
   "outputs": [
    {
     "data": {
      "text/plain": [
       "SVC(C=0.04, cache_size=200, class_weight=None, coef0=0.0,\n",
       "  decision_function_shape='ovr', degree=3, gamma='auto_deprecated',\n",
       "  kernel='linear', max_iter=-1, probability=False, random_state=None,\n",
       "  shrinking=True, tol=0.001, verbose=False)"
      ]
     },
     "execution_count": 419,
     "metadata": {},
     "output_type": "execute_result"
    }
   ],
   "source": [
    "best_C = 0.04\n",
    "\n",
    "best_linear_model = svm.SVC(C=best_C, kernel='linear')\n",
    "best_linear_model.fit(X1, y1.flatten())"
   ]
  },
  {
   "cell_type": "code",
   "execution_count": 420,
   "metadata": {},
   "outputs": [],
   "source": [
    "emails_data = [\n",
    "    ['emailSample1.txt', 0],\n",
    "    ['emailSample2.txt', 0],\n",
    "    ['spamSample1.txt', 1],\n",
    "    ['spamSample2.txt', 1],\n",
    "]"
   ]
  },
  {
   "cell_type": "code",
   "execution_count": 421,
   "metadata": {},
   "outputs": [],
   "source": [
    "def predict_files(model, data):\n",
    "    total = len(data)\n",
    "    correct = 0\n",
    "    for i in range(len(data)):\n",
    "        item = data[i]\n",
    "        email_vec = file_to_vec(item[0], vocab)\n",
    "        y_pred = model.predict(email_vec)\n",
    "        if (y_pred == item[1]): correct += 1\n",
    "        print(f\"File: {item[0]} - {item[1]}. Predicted: {y_pred}\")\n",
    "    \n",
    "    accuracy = round(correct/total, 4)\n",
    "    print('---------------------------')\n",
    "    print(f'Accurecy: {accuracy * 100}%')"
   ]
  },
  {
   "cell_type": "code",
   "execution_count": 422,
   "metadata": {},
   "outputs": [
    {
     "name": "stdout",
     "output_type": "stream",
     "text": [
      "Predict with Linear kernel\n",
      "File: emailSample1.txt - 0. Predicted: [0]\n",
      "File: emailSample2.txt - 0. Predicted: [0]\n",
      "File: spamSample1.txt - 1. Predicted: [1]\n",
      "File: spamSample2.txt - 1. Predicted: [1]\n",
      "---------------------------\n",
      "Accurecy: 100.0%\n"
     ]
    }
   ],
   "source": [
    "print('Predict with Linear kernel')\n",
    "predict_files(best_linear_model, emails_data)"
   ]
  },
  {
   "cell_type": "code",
   "execution_count": 423,
   "metadata": {},
   "outputs": [
    {
     "name": "stdout",
     "output_type": "stream",
     "text": [
      "Predict with Gaussian kernel\n",
      "File: emailSample1.txt - 0. Predicted: [0]\n",
      "File: emailSample2.txt - 0. Predicted: [0]\n",
      "File: spamSample1.txt - 1. Predicted: [1]\n",
      "File: spamSample2.txt - 1. Predicted: [1]\n",
      "---------------------------\n",
      "Accurecy: 100.0%\n"
     ]
    }
   ],
   "source": [
    "print('Predict with Gaussian kernel')\n",
    "predict_files(best_gaussian_model, emails_data)"
   ]
  },
  {
   "cell_type": "markdown",
   "metadata": {},
   "source": [
    "**22. Также можете проверить его работу на собственных примерах.**"
   ]
  },
  {
   "cell_type": "markdown",
   "metadata": {},
   "source": [
    "Файл \"emails.csv\" был взят тут - https://www.kaggle.com/karthickveerakumar/spam-filter"
   ]
  },
  {
   "cell_type": "code",
   "execution_count": 424,
   "metadata": {},
   "outputs": [],
   "source": [
    "def get_kaggle_emails(n=5):\n",
    "    import pandas as pd\n",
    "    kaggle_emails_df = pd.read_csv('emails.csv')\n",
    "    \n",
    "    spam_df = kaggle_emails_df[kaggle_emails_df['spam'] == 1]\n",
    "    ham_df = kaggle_emails_df[kaggle_emails_df['spam'] == 0]\n",
    "    \n",
    "    output = []\n",
    "    spam = spam_df['text'].values[:n]\n",
    "    ham = ham_df['text'].values[:n]\n",
    "\n",
    "    for i in range(len(ham)):\n",
    "        output.append([ham[i], 0])\n",
    "        \n",
    "    for i in range(len(spam)):\n",
    "        output.append([spam[i], 1])\n",
    "    \n",
    "    return output"
   ]
  },
  {
   "cell_type": "code",
   "execution_count": 426,
   "metadata": {},
   "outputs": [],
   "source": [
    "def predict_text(model, data):\n",
    "    total = len(data)\n",
    "    correct = 0\n",
    "    for i in range(len(data)):\n",
    "        item = data[i]\n",
    "        email_vec = text_to_vec(item[0], vocab)\n",
    "        y_pred = model.predict(email_vec)\n",
    "        if (y_pred == item[1]): correct += 1\n",
    "        #print(f\"Text: #{i} - {item[1]}. Predicted: {y_pred}\")\n",
    "    \n",
    "    accuracy = round(correct/total, 4)\n",
    "    print('---------------------------')\n",
    "    print(f'Accurecy: {accuracy * 100}%')"
   ]
  },
  {
   "cell_type": "code",
   "execution_count": 465,
   "metadata": {},
   "outputs": [],
   "source": [
    "kaggle_emails = get_kaggle_emails(1532)"
   ]
  },
  {
   "cell_type": "code",
   "execution_count": 466,
   "metadata": {},
   "outputs": [
    {
     "name": "stdout",
     "output_type": "stream",
     "text": [
      "dataset: 2900,spam: 1368, ham: 1532\n"
     ]
    }
   ],
   "source": [
    "kaggle_spam = 0\n",
    "kaggle_ham = 0\n",
    "\n",
    "for i in range(len(kaggle_emails)):\n",
    "    y = kaggle_emails[i][1]\n",
    "    if y == 1:\n",
    "        kaggle_spam += 1\n",
    "    if y == 0:\n",
    "        kaggle_ham += 1\n",
    "\n",
    "print(f'dataset: {len(kaggle_emails)},spam: {kaggle_spam}, ham: {kaggle_ham}')"
   ]
  },
  {
   "cell_type": "code",
   "execution_count": 467,
   "metadata": {},
   "outputs": [
    {
     "name": "stdout",
     "output_type": "stream",
     "text": [
      "Predict with Linear kernel\n",
      "---------------------------\n",
      "Accurecy: 71.78999999999999%\n"
     ]
    }
   ],
   "source": [
    "print('Predict with Linear kernel')\n",
    "predict_text(best_linear_model, kaggle_emails)"
   ]
  },
  {
   "cell_type": "code",
   "execution_count": 468,
   "metadata": {},
   "outputs": [
    {
     "name": "stdout",
     "output_type": "stream",
     "text": [
      "Predict with Gaussian kernel\n",
      "---------------------------\n",
      "Accurecy: 71.86%\n"
     ]
    }
   ],
   "source": [
    "print('Predict with Gaussian kernel')\n",
    "predict_text(best_gaussian_model, kaggle_emails)"
   ]
  },
  {
   "cell_type": "markdown",
   "metadata": {},
   "source": [
    "**23. Создайте свой набор данных из оригинального корпуса текстов - http://spamassassin.apache.org/old/publiccorpus/.**"
   ]
  },
  {
   "cell_type": "code",
   "execution_count": 430,
   "metadata": {},
   "outputs": [],
   "source": [
    "import os\n",
    "import email"
   ]
  },
  {
   "cell_type": "code",
   "execution_count": 431,
   "metadata": {},
   "outputs": [],
   "source": [
    "spam_path = 'spamassassin_publiccorpus/spam'\n",
    "ham_path = 'spamassassin_publiccorpus/ham'\n",
    "\n",
    "def folder_with_emails_to_list(folder):\n",
    "    texts = []\n",
    "    for filename in os.listdir(folder):\n",
    "        content = open(os.path.join(folder, filename),'r', encoding=\"ISO-8859-1\").read()\n",
    "        mail = email.message_from_string(content)\n",
    "        \n",
    "        while mail.is_multipart():\n",
    "            mail = mail.get_payload(0)\n",
    "\n",
    "        content = mail.get_payload()\n",
    "        \n",
    "        if not len(content): continue\n",
    "        \n",
    "        #payload = mail.get_payload()\n",
    "        texts.append(prepare_text(content))\n",
    "    \n",
    "    return texts"
   ]
  },
  {
   "cell_type": "code",
   "execution_count": 432,
   "metadata": {},
   "outputs": [
    {
     "name": "stdout",
     "output_type": "stream",
     "text": [
      "Spam messages count: 1897\n"
     ]
    }
   ],
   "source": [
    "spam_messages = folder_with_emails_to_list(spam_path)\n",
    "print(f'Spam messages count: {len(spam_messages)}')"
   ]
  },
  {
   "cell_type": "code",
   "execution_count": 433,
   "metadata": {},
   "outputs": [
    {
     "name": "stdout",
     "output_type": "stream",
     "text": [
      "Ham messages count: 2501\n"
     ]
    }
   ],
   "source": [
    "ham_messages = folder_with_emails_to_list(ham_path)\n",
    "print(f'Ham messages count: {len(ham_messages)}')"
   ]
  },
  {
   "cell_type": "code",
   "execution_count": 588,
   "metadata": {},
   "outputs": [
    {
     "data": {
      "text/plain": [
       "54246"
      ]
     },
     "execution_count": 588,
     "metadata": {},
     "output_type": "execute_result"
    }
   ],
   "source": [
    "all_messages = spam_messages + ham_messages\n",
    "\n",
    "words_count_dict = {}\n",
    "\n",
    "#trash_words = ['aa', 'ac', 'ad', 'ae', 'af', 'ag', 'al', 'am', 'an', 'aw', 'ba', 'bb', 'bc', 'bd', 'be', 'bf', 'c', 'ca', 'cb', 'cc', 'cd', 'ce', 'cf', 'cj', 'cm', 'co']\n",
    "\n",
    "for message in all_messages:\n",
    "    words = message.split()\n",
    "    for word in words:\n",
    "        #if word in trash_words: continue\n",
    "        #if (len(word) == 2): continue\n",
    "        if word not in words_count_dict:\n",
    "            words_count_dict[word] = 0\n",
    "        words_count_dict[word] += 1\n",
    "\n",
    "len(words_count_dict.keys())"
   ]
  },
  {
   "cell_type": "code",
   "execution_count": 589,
   "metadata": {},
   "outputs": [],
   "source": [
    "most_freq = sorted(words_count_dict, key=words_count_dict.get, reverse=True)[:1899]"
   ]
  },
  {
   "cell_type": "code",
   "execution_count": 590,
   "metadata": {},
   "outputs": [
    {
     "name": "stdout",
     "output_type": "stream",
     "text": [
      "number => 219857\n",
      "the => 41831\n",
      "to => 30997\n",
      "a => 29902\n",
      "and => 23727\n",
      "of => 22118\n",
      "you => 16357\n",
      "in => 14565\n",
      "e => 13252\n",
      "i => 12672\n",
      "d => 12567\n",
      "is => 12413\n",
      "for => 12104\n",
      "c => 11274\n",
      "it => 10813\n",
      "b => 10278\n",
      "that => 10134\n",
      "nbsp => 9858\n",
      "thi => 9496\n",
      "your => 8979\n"
     ]
    }
   ],
   "source": [
    "for i in range(20):\n",
    "    word = most_freq[i]\n",
    "    print(f'{word} => {words_count_dict[word]}')"
   ]
  },
  {
   "cell_type": "markdown",
   "metadata": {},
   "source": [
    "**24. Постройте собственный словарь.**"
   ]
  },
  {
   "cell_type": "code",
   "execution_count": 591,
   "metadata": {},
   "outputs": [],
   "source": [
    "most_freq.sort()"
   ]
  },
  {
   "cell_type": "code",
   "execution_count": 592,
   "metadata": {},
   "outputs": [],
   "source": [
    "with open('my_vocab.txt', 'w+') as file:\n",
    "    for i in range(len(most_freq)):\n",
    "        word = most_freq[i]\n",
    "        index = i+1\n",
    "        file.write(f\"{index}\\t{word}\\n\")"
   ]
  },
  {
   "cell_type": "markdown",
   "metadata": {},
   "source": [
    "**25. Как изменилось качество классификации? Почему?**"
   ]
  },
  {
   "cell_type": "code",
   "execution_count": 593,
   "metadata": {},
   "outputs": [],
   "source": [
    "my_vocab = load_vocab('my_vocab.txt')"
   ]
  },
  {
   "cell_type": "code",
   "execution_count": 594,
   "metadata": {},
   "outputs": [],
   "source": [
    "spam_messages_count = len(spam_messages)\n",
    "ham_messages_count = len(ham_messages)"
   ]
  },
  {
   "cell_type": "code",
   "execution_count": 595,
   "metadata": {},
   "outputs": [],
   "source": [
    "m = spam_messages_count + ham_messages_count"
   ]
  },
  {
   "cell_type": "code",
   "execution_count": 596,
   "metadata": {},
   "outputs": [],
   "source": [
    "n = len(my_vocab.keys())"
   ]
  },
  {
   "cell_type": "code",
   "execution_count": 597,
   "metadata": {},
   "outputs": [
    {
     "name": "stdout",
     "output_type": "stream",
     "text": [
      "m = 4398, n = 1899\n"
     ]
    }
   ],
   "source": [
    "print(f'm = {m}, n = {n}')"
   ]
  },
  {
   "cell_type": "code",
   "execution_count": 598,
   "metadata": {},
   "outputs": [
    {
     "name": "stdout",
     "output_type": "stream",
     "text": [
      "my_X.shape = (4398, 1899)\n",
      "my_X.shape = (4398,)\n"
     ]
    }
   ],
   "source": [
    "my_X = np.zeros([m, n])\n",
    "my_y = np.zeros(m)\n",
    "\n",
    "print(f'my_X.shape = {my_X.shape}')\n",
    "print(f'my_X.shape = {my_y.shape}')"
   ]
  },
  {
   "cell_type": "code",
   "execution_count": 599,
   "metadata": {},
   "outputs": [],
   "source": [
    "for i in range(spam_messages_count):\n",
    "    msg = spam_messages[i]\n",
    "    my_X[i] = text_to_vec(msg, my_vocab)\n",
    "    my_y[i] = 1"
   ]
  },
  {
   "cell_type": "code",
   "execution_count": 600,
   "metadata": {},
   "outputs": [],
   "source": [
    "for i in range(ham_messages_count):\n",
    "    msg = ham_messages[i]\n",
    "    idx = spam_messages_count + i\n",
    "    my_X[idx] = text_to_vec(msg, my_vocab)\n",
    "    my_y[idx] = 0"
   ]
  },
  {
   "cell_type": "code",
   "execution_count": 601,
   "metadata": {},
   "outputs": [
    {
     "data": {
      "text/plain": [
       "(array([0., 1.]), array([2501, 1897]))"
      ]
     },
     "execution_count": 601,
     "metadata": {},
     "output_type": "execute_result"
    }
   ],
   "source": [
    "np.unique(my_y, return_counts=True)"
   ]
  },
  {
   "cell_type": "code",
   "execution_count": 602,
   "metadata": {},
   "outputs": [],
   "source": [
    "from sklearn.model_selection import train_test_split"
   ]
  },
  {
   "cell_type": "code",
   "execution_count": 603,
   "metadata": {},
   "outputs": [],
   "source": [
    "my_X_train, my_X_test, my_y_train, my_y_test = train_test_split(my_X, my_y, test_size=0.3, random_state=10)"
   ]
  },
  {
   "cell_type": "code",
   "execution_count": 604,
   "metadata": {},
   "outputs": [
    {
     "data": {
      "text/plain": [
       "(array([0., 1.]), array([737, 583]))"
      ]
     },
     "execution_count": 604,
     "metadata": {},
     "output_type": "execute_result"
    }
   ],
   "source": [
    "np.unique(my_y_test, return_counts=True)"
   ]
  },
  {
   "cell_type": "code",
   "execution_count": 514,
   "metadata": {},
   "outputs": [
    {
     "name": "stdout",
     "output_type": "stream",
     "text": [
      "Current progress: 20/20\n",
      "Лучшая комбинация набрала 0.9848484848484849: С = 0.04\n"
     ]
    }
   ],
   "source": [
    "from IPython.display import clear_output, display\n",
    "\n",
    "my_best_score_linear = 0\n",
    "my_params_linear_С = 0\n",
    "\n",
    "total_iter_linear = len(C_vals)\n",
    "\n",
    "i = 0\n",
    "for C in C_vals:\n",
    "    clear_output(wait=True)\n",
    "    i += 1\n",
    "    print(f'Current progress: {i}/{total_iter_linear}')\n",
    "    model = svm.SVC(C=C, kernel='linear')\n",
    "    model.fit(my_X_train, my_y_train.flatten())\n",
    "    \n",
    "    score = model.score(my_X_test, my_y_test)\n",
    "\n",
    "    if score > my_best_score_linear:\n",
    "        my_best_score_linear = score\n",
    "        my_params_linear_С = C\n",
    "            \n",
    "print(f\"Лучшая комбинация набрала {my_best_score_linear}: С = {my_params_linear_С}\")"
   ]
  },
  {
   "cell_type": "code",
   "execution_count": 605,
   "metadata": {},
   "outputs": [
    {
     "data": {
      "text/plain": [
       "0.9863636363636363"
      ]
     },
     "execution_count": 605,
     "metadata": {},
     "output_type": "execute_result"
    }
   ],
   "source": [
    "my_linear_best_c = 0.04\n",
    "my_linear_model = svm.SVC(C=my_linear_best_c, kernel='linear')\n",
    "my_linear_model.fit(my_X_train, my_y_train.flatten())\n",
    "my_linear_model.score(my_X_test, my_y_test)"
   ]
  },
  {
   "cell_type": "code",
   "execution_count": 606,
   "metadata": {},
   "outputs": [
    {
     "data": {
      "text/plain": [
       "0.9878787878787879"
      ]
     },
     "execution_count": 606,
     "metadata": {},
     "output_type": "execute_result"
    }
   ],
   "source": [
    "my_gaussian_model = svm.SVC(C=5, kernel='rbf', gamma=sigma_to_gamma_ang(10))\n",
    "my_gaussian_model.fit(my_X_train, my_y_train.flatten())\n",
    "my_gaussian_model.score(my_X_test, my_y_test)"
   ]
  },
  {
   "cell_type": "code",
   "execution_count": 517,
   "metadata": {},
   "outputs": [],
   "source": [
    "def predict_text2(model, data, vocab):\n",
    "    total = len(data)\n",
    "    correct = 0\n",
    "    for i in range(len(data)):\n",
    "        item = data[i]\n",
    "        email_vec = text_to_vec(item[0], vocab)\n",
    "        y_pred = model.predict(email_vec)\n",
    "        if (y_pred == item[1]): correct += 1\n",
    "        #print(f\"Text: #{i} - {item[1]}. Predicted: {y_pred}\")\n",
    "    \n",
    "    accuracy = round(correct/total, 4)\n",
    "    print('---------------------------')\n",
    "    print(f'Accurecy: {accuracy * 100}%')"
   ]
  },
  {
   "cell_type": "code",
   "execution_count": 518,
   "metadata": {},
   "outputs": [],
   "source": [
    "def predict_files(model, data, vocab):\n",
    "    total = len(data)\n",
    "    correct = 0\n",
    "    for i in range(len(data)):\n",
    "        item = data[i]\n",
    "        email_vec = file_to_vec(item[0], vocab)\n",
    "        y_pred = model.predict(email_vec)\n",
    "        if (y_pred == item[1]): correct += 1\n",
    "        #print(f\"File: {item[0]} - {item[1]}. Predicted: {y_pred}\")\n",
    "    \n",
    "    accuracy = round(correct/total, 4)\n",
    "    print('---------------------------')\n",
    "    print(f'Accurecy: {accuracy * 100}%')"
   ]
  },
  {
   "cell_type": "code",
   "execution_count": 607,
   "metadata": {},
   "outputs": [
    {
     "name": "stdout",
     "output_type": "stream",
     "text": [
      "Predict with Linear kernel\n",
      "---------------------------\n",
      "Accurecy: 70.28%\n"
     ]
    }
   ],
   "source": [
    "print('Predict with Linear kernel')\n",
    "predict_text2(my_linear_model, kaggle_emails, my_vocab)"
   ]
  },
  {
   "cell_type": "code",
   "execution_count": 608,
   "metadata": {},
   "outputs": [
    {
     "name": "stdout",
     "output_type": "stream",
     "text": [
      "Predict with gaussian kernel\n",
      "---------------------------\n",
      "Accurecy: 69.66%\n"
     ]
    }
   ],
   "source": [
    "print('Predict with gaussian kernel')\n",
    "predict_text2(my_gaussian_model, kaggle_emails, my_vocab)"
   ]
  },
  {
   "cell_type": "code",
   "execution_count": 609,
   "metadata": {},
   "outputs": [
    {
     "name": "stdout",
     "output_type": "stream",
     "text": [
      "Predict with Linear kernel\n",
      "---------------------------\n",
      "Accurecy: 75.0%\n"
     ]
    }
   ],
   "source": [
    "print('Predict with Linear kernel')\n",
    "predict_files(my_linear_model, emails_data, my_vocab)"
   ]
  },
  {
   "cell_type": "code",
   "execution_count": 610,
   "metadata": {},
   "outputs": [
    {
     "name": "stdout",
     "output_type": "stream",
     "text": [
      "Predict with gaussian kernel\n",
      "---------------------------\n",
      "Accurecy: 75.0%\n"
     ]
    }
   ],
   "source": [
    "print('Predict with gaussian kernel')\n",
    "predict_files(my_gaussian_model, emails_data, my_vocab)"
   ]
  },
  {
   "cell_type": "code",
   "execution_count": null,
   "metadata": {},
   "outputs": [],
   "source": []
  },
  {
   "cell_type": "code",
   "execution_count": null,
   "metadata": {},
   "outputs": [],
   "source": []
  }
 ],
 "metadata": {
  "kernelspec": {
   "display_name": "Python 3",
   "language": "python",
   "name": "python3"
  },
  "language_info": {
   "codemirror_mode": {
    "name": "ipython",
    "version": 3
   },
   "file_extension": ".py",
   "mimetype": "text/x-python",
   "name": "python",
   "nbconvert_exporter": "python",
   "pygments_lexer": "ipython3",
   "version": "3.7.3"
  }
 },
 "nbformat": 4,
 "nbformat_minor": 2
}
