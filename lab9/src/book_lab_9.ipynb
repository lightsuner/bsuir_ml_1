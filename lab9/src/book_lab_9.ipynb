{
 "cells": [
  {
   "cell_type": "code",
   "execution_count": 1,
   "metadata": {},
   "outputs": [],
   "source": [
    "import numpy as np\n",
    "import scipy.io\n",
    "from scipy import optimize"
   ]
  },
  {
   "cell_type": "markdown",
   "metadata": {},
   "source": [
    "Набор данных ex9_movies.mat представляет собой файл формата *.mat (т.е. сохраненного из Matlab). Набор содержит две матрицы Y и R - рейтинг 1682 фильмов среди 943 пользователей. Значение Rij может быть равно 0 или 1 в зависимости от того оценил ли пользователь j фильм i. Матрица Y содержит числа от 1 до 5 - оценки в баллах пользователей, выставленные фильмам."
   ]
  },
  {
   "cell_type": "markdown",
   "metadata": {},
   "source": [
    "**1. Загрузите данные ex9_movies.mat из файла.**"
   ]
  },
  {
   "cell_type": "code",
   "execution_count": 2,
   "metadata": {},
   "outputs": [
    {
     "name": "stdout",
     "output_type": "stream",
     "text": [
      "Y.shape = (1682, 943)\n",
      "R.shape = (1682, 943)\n",
      "Users: 943, Movies: 1682\n"
     ]
    }
   ],
   "source": [
    "movie_data = scipy.io.loadmat('ex9_movies.mat')\n",
    "Y = movie_data['Y']\n",
    "R = movie_data['R']\n",
    "\n",
    "Nm, Nu = Y.shape\n",
    "\n",
    "print(f'Y.shape = {Y.shape}')\n",
    "print(f'R.shape = {R.shape}')\n",
    "\n",
    "print(f'Users: {Nu}, Movies: {Nm}')"
   ]
  },
  {
   "cell_type": "markdown",
   "metadata": {},
   "source": [
    "**2. Выберите число признаков фильмов (n) для реализации алгоритма коллаборативной фильтрации.**"
   ]
  },
  {
   "cell_type": "code",
   "execution_count": 3,
   "metadata": {},
   "outputs": [],
   "source": [
    "x_feat_count = 4"
   ]
  },
  {
   "cell_type": "markdown",
   "metadata": {},
   "source": [
    "**3. Реализуйте функцию стоимости для алгоритма.**"
   ]
  },
  {
   "cell_type": "code",
   "execution_count": 4,
   "metadata": {},
   "outputs": [],
   "source": [
    "def h(theta, X):\n",
    "    return np.dot(X, theta.T)"
   ]
  },
  {
   "cell_type": "code",
   "execution_count": 5,
   "metadata": {},
   "outputs": [],
   "source": [
    "def cost(theta, X, y, r):\n",
    "    y_pred = h(theta, X)\n",
    "    y_pred = y_pred * r\n",
    "    \n",
    "    return np.sum(np.power((y_pred - y), 2))"
   ]
  },
  {
   "cell_type": "code",
   "execution_count": 6,
   "metadata": {},
   "outputs": [],
   "source": [
    "def J_combined(theta, X, y, r, lmb = 0.):\n",
    "    reg = 0\n",
    "    error = cost(theta, X, y, r)\n",
    "    \n",
    "    if lmb != 0:\n",
    "        reg += lmb * np.sum(np.square(theta))\n",
    "        reg += lmb * np.sum(np.square(X))\n",
    "    \n",
    "    return (error + reg) / 2"
   ]
  },
  {
   "cell_type": "markdown",
   "metadata": {},
   "source": [
    "**4. Реализуйте функцию вычисления градиентов.**"
   ]
  },
  {
   "cell_type": "code",
   "execution_count": 7,
   "metadata": {},
   "outputs": [],
   "source": [
    "def unroll(theta, X):\n",
    "    return np.concatenate([theta.flatten(), X.flatten()])\n",
    "\n",
    "def roll_up(data, movies_c, users_c, feat_c):\n",
    "    theta_end = users_c * feat_c\n",
    "    theta = data[:theta_end].reshape(users_c, feat_c)\n",
    "    X = data[theta_end:].reshape(movies_c, feat_c)\n",
    "    \n",
    "    return theta, X"
   ]
  },
  {
   "cell_type": "code",
   "execution_count": 8,
   "metadata": {},
   "outputs": [],
   "source": [
    "def J_gd(data, Y, R, Nm, Nu, Nf, lmb = 0.):\n",
    "    theta, X = roll_up(data, Nm, Nu, Nf)\n",
    "    \n",
    "    return J_combined(theta, X, Y, R, lmb)"
   ]
  },
  {
   "cell_type": "code",
   "execution_count": 9,
   "metadata": {},
   "outputs": [],
   "source": [
    "def gd_step(data, Y, R, Nm, Nu, Nf, lmb = 0.):\n",
    "    theta, X = roll_up(data, Nm, Nu, Nf)\n",
    "    \n",
    "    error = (h(theta, X) * R) - Y\n",
    "        \n",
    "    X_gd = np.dot(error, theta)\n",
    "    theta_gd = np.dot(error.T, X)\n",
    "    \n",
    "    if lmb != 0:\n",
    "        X_gd += lmb * X\n",
    "        theta_gd += lmb * theta\n",
    "    \n",
    "    return unroll(theta_gd, X_gd)"
   ]
  },
  {
   "cell_type": "markdown",
   "metadata": {},
   "source": [
    "**5. При реализации используйте векторизацию для ускорения процесса обучения.**"
   ]
  },
  {
   "cell_type": "code",
   "execution_count": 10,
   "metadata": {},
   "outputs": [
    {
     "name": "stdout",
     "output_type": "stream",
     "text": [
      "done\n"
     ]
    }
   ],
   "source": [
    "print('done')"
   ]
  },
  {
   "cell_type": "markdown",
   "metadata": {},
   "source": [
    "**6. Добавьте L2-регуляризацию в модель.**"
   ]
  },
  {
   "cell_type": "code",
   "execution_count": 11,
   "metadata": {},
   "outputs": [
    {
     "name": "stdout",
     "output_type": "stream",
     "text": [
      "done\n"
     ]
    }
   ],
   "source": [
    "print('done')"
   ]
  },
  {
   "cell_type": "markdown",
   "metadata": {},
   "source": [
    "**7. Обучите модель с помощью градиентного спуска или других методов оптимизации.**"
   ]
  },
  {
   "cell_type": "code",
   "execution_count": 12,
   "metadata": {},
   "outputs": [],
   "source": [
    "def build_model(init_theta, init_X, Y, R, Nm, Nu, Nf, lmb = 0.):    \n",
    "    data = optimize.fmin_cg(\n",
    "        J_gd,\n",
    "        x0=unroll(init_theta, init_X),\n",
    "        fprime=gd_step,\n",
    "        args=(Y, R, Nm, Nu, Nf, lmb),\n",
    "        maxiter=400,\n",
    "        disp=True\n",
    "    )\n",
    "    \n",
    "    return roll_up(data, Nm, Nu, Nf)"
   ]
  },
  {
   "cell_type": "code",
   "execution_count": 13,
   "metadata": {},
   "outputs": [
    {
     "name": "stdout",
     "output_type": "stream",
     "text": [
      "Warning: Maximum number of iterations has been exceeded.\n",
      "         Current function value: 32535.215263\n",
      "         Iterations: 400\n",
      "         Function evaluations: 602\n",
      "         Gradient evaluations: 602\n"
     ]
    }
   ],
   "source": [
    "rand_theta = np.random.rand(Nu, x_feat_count)\n",
    "rand_X = np.random.rand(Nm, x_feat_count)\n",
    "calc_theta, calc_X = build_model(rand_theta, rand_X, Y, R, Nm, Nu, x_feat_count)"
   ]
  },
  {
   "cell_type": "code",
   "execution_count": null,
   "metadata": {},
   "outputs": [],
   "source": []
  },
  {
   "cell_type": "markdown",
   "metadata": {},
   "source": [
    "**8. Добавьте несколько оценок фильмов от себя. Файл movie_ids.txt содержит индексы каждого из фильмов.**"
   ]
  },
  {
   "cell_type": "code",
   "execution_count": 14,
   "metadata": {},
   "outputs": [],
   "source": [
    "def load_vocab(filename):\n",
    "    dict = {}\n",
    "    with open(filename, encoding = \"ISO-8859-1\") as f:\n",
    "        for line in f:\n",
    "            (idx, name) = line.strip().split(' ', 1)\n",
    "            dict[int(idx) -1] = name\n",
    "    return dict"
   ]
  },
  {
   "cell_type": "code",
   "execution_count": 15,
   "metadata": {},
   "outputs": [],
   "source": [
    "movies = load_vocab('movie_ids.txt')"
   ]
  },
  {
   "cell_type": "markdown",
   "metadata": {},
   "source": [
    "**9. Сделайте рекомендации для себя. Совпали ли они с реальностью?**"
   ]
  },
  {
   "cell_type": "code",
   "execution_count": 16,
   "metadata": {},
   "outputs": [],
   "source": [
    "def mse(y_true, y_pred):\n",
    "    return np.sum((y_true - y_pred) ** 2) / y_true.size"
   ]
  },
  {
   "cell_type": "code",
   "execution_count": 17,
   "metadata": {},
   "outputs": [],
   "source": [
    "def recommend_movies(predictions, R, user_id, top=10):\n",
    "    predictions = predictions[:, user_id]\n",
    "    not_watched_R = np.where(R[:, user_id] < 1)[0]\n",
    "    predictions = predictions[not_watched_R]\n",
    "    recommended_idx = np.argsort(predictions)\n",
    "    recommended_idx = recommended_idx[::-1] # asc -> desc\n",
    "    \n",
    "    print(f'Top {top}:')\n",
    "    for i in range(top):\n",
    "        idx = recommended_idx[i]\n",
    "        print(f'{predictions[idx]:.2f} - {movies[idx]}')"
   ]
  },
  {
   "cell_type": "code",
   "execution_count": 18,
   "metadata": {},
   "outputs": [
    {
     "name": "stdout",
     "output_type": "stream",
     "text": [
      "Toy Story (1995)\t3\n",
      "GoldenEye (1995)\t5\n",
      "Star Wars (1977)\t3\n",
      "Lion King, The (1994)\t2\n",
      "Mask, The (1994)\t3\n",
      "Terminator 2: Judgment Day (1991)\t5\n",
      "Back to the Future (1985)\t3\n",
      "Indiana Jones and the Last Crusade (1989)\t5\n",
      "Star Trek: First Contact (1996)\t3\n",
      "Die Hard 2 (1990)\t4\n",
      "Star Trek VI: The Undiscovered Country (1991)\t3\n",
      "Star Trek: The Wrath of Khan (1982)\t3\n",
      "Star Trek III: The Search for Spock (1984)\t3\n",
      "Star Trek IV: The Voyage Home (1986)\t3\n",
      "Fifth Element, The (1997)\t5\n",
      "Naked Gun 33 1/3: The Final Insult (1994)\t3\n",
      "Mission: Impossible (1996)\t5\n",
      "Spy Hard (1996)\t3\n",
      "Jackie Chan's First Strike (1996)\t5\n",
      "Die Hard: With a Vengeance (1995)\t5\n"
     ]
    }
   ],
   "source": [
    "my_rank = np.zeros([Y.shape[0],1]).astype(int)\n",
    "\n",
    "#1 Toy Story (1995)\n",
    "my_rank[0] = 3\n",
    "#2 GoldenEye (1995)\n",
    "my_rank[1] = 5\n",
    "#50 Star Wars (1977)\n",
    "my_rank[49] = 3\n",
    "#71 Lion King, The (1994)\n",
    "my_rank[70] = 2\n",
    "#72 Mask, The (1994)\n",
    "my_rank[71] = 3\n",
    "#96 Terminator 2: Judgment Day (1991)\n",
    "my_rank[95] = 5\n",
    "#204 Back to the Future (1985)\n",
    "my_rank[203] = 3\n",
    "#210 Indiana Jones and the Last Crusade (1989)\n",
    "my_rank[209] = 5\n",
    "#222 Star Trek: First Contact (1996)\n",
    "my_rank[221] = 3\n",
    "#227 Star Trek VI: The Undiscovered Country (1991)\n",
    "my_rank[226] = 3\n",
    "#228 Star Trek: The Wrath of Khan (1982)\n",
    "my_rank[227] = 3\n",
    "#229 Star Trek III: The Search for Spock (1984)\n",
    "my_rank[228] = 3\n",
    "#230 Star Trek IV: The Voyage Home (1986)\n",
    "my_rank[229] = 3\n",
    "#226 Die Hard 2 (1990)\n",
    "my_rank[225] = 4\n",
    "#405 Mission: Impossible (1996)\n",
    "my_rank[404] = 5\n",
    "#550 Die Hard: With a Vengeance (1995)\n",
    "my_rank[549] = 5\n",
    "#407 Spy Hard (1996)\n",
    "my_rank[406] = 3\n",
    "#384 Naked Gun 33 1/3: The Final Insult (1994)\n",
    "my_rank[383] = 3\n",
    "#455 Jackie Chan's First Strike (1996)\n",
    "my_rank[454] = 5\n",
    "#250 Fifth Element, The (1997)\n",
    "my_rank[249] = 5\n",
    "\n",
    "## \n",
    "\n",
    "my_indexes = np.where(my_rank > 0)[0]\n",
    "\n",
    "for idx in my_indexes:\n",
    "    print(f\"{movies[idx]}\\t{my_rank[idx].item()}\")"
   ]
  },
  {
   "cell_type": "code",
   "execution_count": 19,
   "metadata": {},
   "outputs": [],
   "source": [
    "my_rated = (my_rank > 0).astype(int)"
   ]
  },
  {
   "cell_type": "code",
   "execution_count": 20,
   "metadata": {},
   "outputs": [
    {
     "data": {
      "text/plain": [
       "(1682, 944)"
      ]
     },
     "execution_count": 20,
     "metadata": {},
     "output_type": "execute_result"
    }
   ],
   "source": [
    "my_Y = np.c_[Y, my_rank] \n",
    "my_Y.shape"
   ]
  },
  {
   "cell_type": "code",
   "execution_count": 21,
   "metadata": {},
   "outputs": [
    {
     "data": {
      "text/plain": [
       "(1682, 1)"
      ]
     },
     "execution_count": 21,
     "metadata": {},
     "output_type": "execute_result"
    }
   ],
   "source": [
    "movies_mean = my_Y.mean(axis=1).reshape(-1, 1)\n",
    "movies_mean.shape"
   ]
  },
  {
   "cell_type": "code",
   "execution_count": 22,
   "metadata": {},
   "outputs": [
    {
     "data": {
      "text/plain": [
       "(1682, 944)"
      ]
     },
     "execution_count": 22,
     "metadata": {},
     "output_type": "execute_result"
    }
   ],
   "source": [
    "my_R = np.c_[R, my_rated] \n",
    "my_R.shape"
   ]
  },
  {
   "cell_type": "code",
   "execution_count": 67,
   "metadata": {},
   "outputs": [],
   "source": [
    "my_Nm, my_Nu = my_Y.shape\n",
    "my_feat_count = 100"
   ]
  },
  {
   "cell_type": "code",
   "execution_count": 68,
   "metadata": {},
   "outputs": [],
   "source": [
    "init_theta = np.random.rand(my_Nu, my_feat_count)\n",
    "init_X = np.random.rand(my_Nm, my_feat_count)"
   ]
  },
  {
   "cell_type": "code",
   "execution_count": 69,
   "metadata": {},
   "outputs": [
    {
     "name": "stdout",
     "output_type": "stream",
     "text": [
      "Warning: Maximum number of iterations has been exceeded.\n",
      "         Current function value: 2303.942923\n",
      "         Iterations: 400\n",
      "         Function evaluations: 605\n",
      "         Gradient evaluations: 605\n"
     ]
    }
   ],
   "source": [
    "my_calc_theta, my_calc_X = build_model(init_theta, init_X, my_Y, my_R, my_Nm, my_Nu, my_feat_count, 0.2)\n",
    "y_pred_gd = h(my_calc_theta, my_calc_X)\n"
   ]
  },
  {
   "cell_type": "code",
   "execution_count": 71,
   "metadata": {},
   "outputs": [
    {
     "name": "stdout",
     "output_type": "stream",
     "text": [
      "mse = 10.016201935907318\n"
     ]
    }
   ],
   "source": [
    "print(f'mse = {mse(my_Y, y_pred_gd)}')"
   ]
  },
  {
   "cell_type": "code",
   "execution_count": 70,
   "metadata": {},
   "outputs": [
    {
     "name": "stdout",
     "output_type": "stream",
     "text": [
      "Top 10:\n",
      "5.37 - Three Colors: White (1994)\n",
      "5.33 - Man Who Knew Too Little, The (1997)\n",
      "5.28 - Fly Away Home (1996)\n",
      "5.27 - Tin Drum, The (Blechtrommel, Die) (1979)\n",
      "5.07 - Private Benjamin (1980)\n",
      "5.07 - Richard III (1995)\n",
      "5.07 - Pink Floyd - The Wall (1982)\n",
      "5.03 - Face/Off (1997)\n",
      "5.02 - Home Alone (1990)\n",
      "5.01 - Men in Black (1997)\n"
     ]
    }
   ],
   "source": [
    "recommend_movies(y_pred_gd, my_R, 943, 10)"
   ]
  },
  {
   "cell_type": "markdown",
   "metadata": {},
   "source": [
    "**10. Также обучите модель с помощью сингулярного разложения матриц. Отличаются ли полученные результаты?**"
   ]
  },
  {
   "cell_type": "code",
   "execution_count": 62,
   "metadata": {},
   "outputs": [],
   "source": [
    "def predict_using_svd(Y, feat_count):\n",
    "    U, Sigma, Vt = np.linalg.svd(Y)\n",
    "    \n",
    "    U_f = U[:, : feat_count]\n",
    "    S_f = np.diag(Sigma[: feat_count]) \n",
    "    Vt_f = Vt[: feat_count]\n",
    "    \n",
    "    predictions = np.dot(np.dot(U_f, S_f), Vt_f)\n",
    "    \n",
    "    return predictions"
   ]
  },
  {
   "cell_type": "code",
   "execution_count": 63,
   "metadata": {},
   "outputs": [
    {
     "name": "stdout",
     "output_type": "stream",
     "text": [
      "mse = 0.24613914936654469\n"
     ]
    }
   ],
   "source": [
    "y_pred_svd = predict_using_svd(my_Y, 100)\n",
    "print(f'mse = {mse(my_Y, y_pred_svd)}')"
   ]
  },
  {
   "cell_type": "code",
   "execution_count": 64,
   "metadata": {},
   "outputs": [
    {
     "name": "stdout",
     "output_type": "stream",
     "text": [
      "Top 10:\n",
      "1.47 - Grand Day Out, A (1992)\n",
      "1.47 - Brazil (1985)\n",
      "1.25 - Manon of the Spring (Manon des sources) (1986)\n",
      "1.21 - Age of Innocence, The (1993)\n",
      "1.09 - Monty Python and the Holy Grail (1974)\n",
      "1.07 - Highlander (1986)\n",
      "1.07 - Haunted World of Edward D. Wood Jr., The (1995)\n",
      "1.01 - D3: The Mighty Ducks (1996)\n",
      "1.01 - Black Sheep (1996)\n",
      "1.00 - Kolya (1996)\n"
     ]
    }
   ],
   "source": [
    "recommend_movies(y_pred_svd, my_R, 943, 10)"
   ]
  },
  {
   "cell_type": "code",
   "execution_count": null,
   "metadata": {},
   "outputs": [],
   "source": []
  }
 ],
 "metadata": {
  "kernelspec": {
   "display_name": "Python 3",
   "language": "python",
   "name": "python3"
  },
  "language_info": {
   "codemirror_mode": {
    "name": "ipython",
    "version": 3
   },
   "file_extension": ".py",
   "mimetype": "text/x-python",
   "name": "python",
   "nbconvert_exporter": "python",
   "pygments_lexer": "ipython3",
   "version": "3.7.3"
  }
 },
 "nbformat": 4,
 "nbformat_minor": 2
}
